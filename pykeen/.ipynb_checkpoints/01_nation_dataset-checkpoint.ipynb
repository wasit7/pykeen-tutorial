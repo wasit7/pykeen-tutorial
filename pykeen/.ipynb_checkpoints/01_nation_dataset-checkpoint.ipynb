{
 "cells": [
  {
   "cell_type": "code",
   "execution_count": 2,
   "id": "b71651e5",
   "metadata": {},
   "outputs": [],
   "source": [
    "from pykeen.datasets import Nations\n",
    "dataset = Nations()"
   ]
  },
  {
   "cell_type": "code",
   "execution_count": 10,
   "id": "414ae887",
   "metadata": {},
   "outputs": [],
   "source": [
    "x=dataset.training"
   ]
  },
  {
   "cell_type": "code",
   "execution_count": 11,
   "id": "ea2a1a6d",
   "metadata": {},
   "outputs": [
    {
     "data": {
      "text/plain": [
       "{0: 'brazil',\n",
       " 1: 'burma',\n",
       " 2: 'china',\n",
       " 3: 'cuba',\n",
       " 4: 'egypt',\n",
       " 5: 'india',\n",
       " 6: 'indonesia',\n",
       " 7: 'israel',\n",
       " 8: 'jordan',\n",
       " 9: 'netherlands',\n",
       " 10: 'poland',\n",
       " 11: 'uk',\n",
       " 12: 'usa',\n",
       " 13: 'ussr'}"
      ]
     },
     "execution_count": 11,
     "metadata": {},
     "output_type": "execute_result"
    }
   ],
   "source": [
    "x.entity_id_to_label"
   ]
  },
  {
   "cell_type": "code",
   "execution_count": 12,
   "id": "744c3777",
   "metadata": {},
   "outputs": [
    {
     "data": {
      "text/plain": [
       "{0: 'accusation',\n",
       " 1: 'aidenemy',\n",
       " 2: 'attackembassy',\n",
       " 3: 'blockpositionindex',\n",
       " 4: 'booktranslations',\n",
       " 5: 'boycottembargo',\n",
       " 6: 'commonbloc0',\n",
       " 7: 'commonbloc1',\n",
       " 8: 'commonbloc2',\n",
       " 9: 'conferences',\n",
       " 10: 'dependent',\n",
       " 11: 'duration',\n",
       " 12: 'economicaid',\n",
       " 13: 'eemigrants',\n",
       " 14: 'embassy',\n",
       " 15: 'emigrants3',\n",
       " 16: 'expeldiplomats',\n",
       " 17: 'exportbooks',\n",
       " 18: 'exports3',\n",
       " 19: 'independence',\n",
       " 20: 'intergovorgs',\n",
       " 21: 'intergovorgs3',\n",
       " 22: 'lostterritory',\n",
       " 23: 'militaryactions',\n",
       " 24: 'militaryalliance',\n",
       " 25: 'negativebehavior',\n",
       " 26: 'negativecomm',\n",
       " 27: 'ngo',\n",
       " 28: 'ngoorgs3',\n",
       " 29: 'nonviolentbehavior',\n",
       " 30: 'officialvisits',\n",
       " 31: 'pprotests',\n",
       " 32: 'relbooktranslations',\n",
       " 33: 'reldiplomacy',\n",
       " 34: 'releconomicaid',\n",
       " 35: 'relemigrants',\n",
       " 36: 'relexportbooks',\n",
       " 37: 'relexports',\n",
       " 38: 'relintergovorgs',\n",
       " 39: 'relngo',\n",
       " 40: 'relstudents',\n",
       " 41: 'reltourism',\n",
       " 42: 'reltreaties',\n",
       " 43: 'severdiplomatic',\n",
       " 44: 'students',\n",
       " 45: 'timesinceally',\n",
       " 46: 'timesincewar',\n",
       " 47: 'tourism',\n",
       " 48: 'tourism3',\n",
       " 49: 'treaties',\n",
       " 50: 'unoffialacts',\n",
       " 51: 'unweightedunvote',\n",
       " 52: 'violentactions',\n",
       " 53: 'warning',\n",
       " 54: 'weightedunvote'}"
      ]
     },
     "execution_count": 12,
     "metadata": {},
     "output_type": "execute_result"
    }
   ],
   "source": [
    "x.relation_id_to_label"
   ]
  },
  {
   "cell_type": "code",
   "execution_count": 3,
   "id": "500623b2",
   "metadata": {},
   "outputs": [
    {
     "data": {
      "text/plain": [
       "tensor([[ 0,  3,  2],\n",
       "        [ 0,  3,  3],\n",
       "        [ 0,  3, 10],\n",
       "        ...,\n",
       "        [13, 54,  9],\n",
       "        [13, 54, 11],\n",
       "        [13, 54, 12]])"
      ]
     },
     "execution_count": 3,
     "metadata": {},
     "output_type": "execute_result"
    }
   ],
   "source": [
    "dataset.training.mapped_triples"
   ]
  },
  {
   "cell_type": "code",
   "execution_count": null,
   "id": "ba9c95dd",
   "metadata": {},
   "outputs": [],
   "source": []
  }
 ],
 "metadata": {
  "kernelspec": {
   "display_name": "Python 3 (ipykernel)",
   "language": "python",
   "name": "python3"
  },
  "language_info": {
   "codemirror_mode": {
    "name": "ipython",
    "version": 3
   },
   "file_extension": ".py",
   "mimetype": "text/x-python",
   "name": "python",
   "nbconvert_exporter": "python",
   "pygments_lexer": "ipython3",
   "version": "3.8.13"
  }
 },
 "nbformat": 4,
 "nbformat_minor": 5
}
