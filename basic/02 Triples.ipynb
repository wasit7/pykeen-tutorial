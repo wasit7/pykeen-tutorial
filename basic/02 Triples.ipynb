{
 "cells": [
  {
   "cell_type": "code",
   "execution_count": 1,
   "id": "69275312",
   "metadata": {},
   "outputs": [
    {
     "data": {
      "text/html": [
       "<div>\n",
       "<style scoped>\n",
       "    .dataframe tbody tr th:only-of-type {\n",
       "        vertical-align: middle;\n",
       "    }\n",
       "\n",
       "    .dataframe tbody tr th {\n",
       "        vertical-align: top;\n",
       "    }\n",
       "\n",
       "    .dataframe thead th {\n",
       "        text-align: right;\n",
       "    }\n",
       "</style>\n",
       "<table border=\"1\" class=\"dataframe\">\n",
       "  <thead>\n",
       "    <tr style=\"text-align: right;\">\n",
       "      <th></th>\n",
       "      <th>subject</th>\n",
       "      <th>predicate</th>\n",
       "      <th>object</th>\n",
       "    </tr>\n",
       "  </thead>\n",
       "  <tbody>\n",
       "    <tr>\n",
       "      <th>0</th>\n",
       "      <td>Alice</td>\n",
       "      <td>likes</td>\n",
       "      <td>Bob</td>\n",
       "    </tr>\n",
       "    <tr>\n",
       "      <th>1</th>\n",
       "      <td>Alice</td>\n",
       "      <td>knows</td>\n",
       "      <td>Eve</td>\n",
       "    </tr>\n",
       "    <tr>\n",
       "      <th>2</th>\n",
       "      <td>Alice</td>\n",
       "      <td>has</td>\n",
       "      <td>Cat</td>\n",
       "    </tr>\n",
       "    <tr>\n",
       "      <th>3</th>\n",
       "      <td>Bob</td>\n",
       "      <td>likes</td>\n",
       "      <td>Alice</td>\n",
       "    </tr>\n",
       "    <tr>\n",
       "      <th>4</th>\n",
       "      <td>Bob</td>\n",
       "      <td>has</td>\n",
       "      <td>Dog</td>\n",
       "    </tr>\n",
       "    <tr>\n",
       "      <th>5</th>\n",
       "      <td>Charlie</td>\n",
       "      <td>knows</td>\n",
       "      <td>Alice</td>\n",
       "    </tr>\n",
       "    <tr>\n",
       "      <th>6</th>\n",
       "      <td>Charlie</td>\n",
       "      <td>likes</td>\n",
       "      <td>Eve</td>\n",
       "    </tr>\n",
       "    <tr>\n",
       "      <th>7</th>\n",
       "      <td>David</td>\n",
       "      <td>has</td>\n",
       "      <td>Fish</td>\n",
       "    </tr>\n",
       "    <tr>\n",
       "      <th>8</th>\n",
       "      <td>David</td>\n",
       "      <td>knows</td>\n",
       "      <td>Bob</td>\n",
       "    </tr>\n",
       "    <tr>\n",
       "      <th>9</th>\n",
       "      <td>Eve</td>\n",
       "      <td>likes</td>\n",
       "      <td>Fish</td>\n",
       "    </tr>\n",
       "  </tbody>\n",
       "</table>\n",
       "</div>"
      ],
      "text/plain": [
       "   subject predicate object\n",
       "0    Alice     likes    Bob\n",
       "1    Alice     knows    Eve\n",
       "2    Alice       has    Cat\n",
       "3      Bob     likes  Alice\n",
       "4      Bob       has    Dog\n",
       "5  Charlie     knows  Alice\n",
       "6  Charlie     likes    Eve\n",
       "7    David       has   Fish\n",
       "8    David     knows    Bob\n",
       "9      Eve     likes   Fish"
      ]
     },
     "execution_count": 1,
     "metadata": {},
     "output_type": "execute_result"
    }
   ],
   "source": [
    "import pandas as pd\n",
    "\n",
    "# Define the subjects, predicates, and objects\n",
    "subjects = ['Alice', 'Alice', 'Alice', 'Bob', 'Bob', 'Charlie', 'Charlie', 'David', 'David', 'Eve']\n",
    "predicates = ['likes', 'knows', 'has', 'likes', 'has', 'knows', 'likes', 'has', 'knows', 'likes']\n",
    "objects = ['Bob', 'Eve', 'Cat', 'Alice', 'Dog', 'Alice', 'Eve', 'Fish', 'Bob', 'Fish']\n",
    "\n",
    "# Create a dataframe\n",
    "df = pd.DataFrame({'subject': subjects, 'predicate': predicates, 'object': objects})\n",
    "\n",
    "# Save the dataframe to a TSV file\n",
    "df.to_csv('dataset10.tsv', sep='\\t', index=False)\n",
    "\n",
    "df"
   ]
  },
  {
   "cell_type": "code",
   "execution_count": 7,
   "id": "c3fc1ebc",
   "metadata": {},
   "outputs": [
    {
     "name": "stderr",
     "output_type": "stream",
     "text": [
      "Reconstructing all label-based triples. This is expensive and rarely needed.\n"
     ]
    },
    {
     "data": {
      "text/plain": [
       "array([['Alice', 'has', 'Cat'],\n",
       "       ['Alice', 'knows', 'Eve'],\n",
       "       ['Alice', 'likes', 'Bob'],\n",
       "       ['Bob', 'has', 'Dog'],\n",
       "       ['Bob', 'likes', 'Alice'],\n",
       "       ['Charlie', 'knows', 'Alice'],\n",
       "       ['Charlie', 'likes', 'Eve'],\n",
       "       ['David', 'has', 'Fish'],\n",
       "       ['David', 'knows', 'Bob'],\n",
       "       ['Eve', 'likes', 'Fish']], dtype='<U7')"
      ]
     },
     "execution_count": 7,
     "metadata": {},
     "output_type": "execute_result"
    }
   ],
   "source": [
    "from pykeen.triples import TriplesFactory\n",
    "\n",
    "# Assuming your dataframe has columns 'subject', 'predicate', 'object'\n",
    "triples_factory = TriplesFactory.from_labeled_triples(\n",
    "    triples=df[['subject', 'predicate', 'object']].values,\n",
    ")\n",
    "\n",
    "# Display the first few triples\n",
    "triples_factory.triples"
   ]
  },
  {
   "cell_type": "code",
   "execution_count": 15,
   "id": "86429641",
   "metadata": {},
   "outputs": [],
   "source": [
    "# training, validation, testing = triples_factory.split(ratios=(.6, .2, .2))\n",
    "training = triples_factory\n",
    "validation = triples_factory\n",
    "testing = triples_factory\n",
    "\n",
    "d=training"
   ]
  },
  {
   "cell_type": "code",
   "execution_count": 16,
   "id": "3097af24",
   "metadata": {},
   "outputs": [
    {
     "data": {
      "text/plain": [
       "{'Alice': 0,\n",
       " 'Bob': 1,\n",
       " 'Cat': 2,\n",
       " 'Charlie': 3,\n",
       " 'David': 4,\n",
       " 'Dog': 5,\n",
       " 'Eve': 6,\n",
       " 'Fish': 7}"
      ]
     },
     "execution_count": 16,
     "metadata": {},
     "output_type": "execute_result"
    }
   ],
   "source": [
    "d.entity_to_id"
   ]
  },
  {
   "cell_type": "code",
   "execution_count": 17,
   "id": "d5583f7c",
   "metadata": {},
   "outputs": [
    {
     "data": {
      "text/plain": [
       "{'has': 0, 'knows': 1, 'likes': 2}"
      ]
     },
     "execution_count": 17,
     "metadata": {},
     "output_type": "execute_result"
    }
   ],
   "source": [
    "d.relation_to_id"
   ]
  },
  {
   "cell_type": "code",
   "execution_count": 18,
   "id": "ee2e2d4c",
   "metadata": {},
   "outputs": [
    {
     "name": "stderr",
     "output_type": "stream",
     "text": [
      "Reconstructing all label-based triples. This is expensive and rarely needed.\n"
     ]
    },
    {
     "data": {
      "text/plain": [
       "tensor([[0, 0, 2],\n",
       "        [0, 1, 6],\n",
       "        [0, 2, 1],\n",
       "        [1, 0, 5],\n",
       "        [1, 2, 0],\n",
       "        [3, 1, 0],\n",
       "        [3, 2, 6],\n",
       "        [4, 0, 7],\n",
       "        [4, 1, 1],\n",
       "        [6, 2, 7]])"
      ]
     },
     "execution_count": 18,
     "metadata": {},
     "output_type": "execute_result"
    }
   ],
   "source": [
    "d.map_triples(d.triples)"
   ]
  },
  {
   "cell_type": "code",
   "execution_count": 19,
   "id": "0bd051c9",
   "metadata": {},
   "outputs": [
    {
     "name": "stderr",
     "output_type": "stream",
     "text": [
      "Reconstructing all label-based triples. This is expensive and rarely needed.\n"
     ]
    },
    {
     "data": {
      "text/plain": [
       "array([['Alice', 'has', 'Cat'],\n",
       "       ['Alice', 'knows', 'Eve'],\n",
       "       ['Alice', 'likes', 'Bob'],\n",
       "       ['Bob', 'has', 'Dog'],\n",
       "       ['Bob', 'likes', 'Alice'],\n",
       "       ['Charlie', 'knows', 'Alice'],\n",
       "       ['Charlie', 'likes', 'Eve'],\n",
       "       ['David', 'has', 'Fish'],\n",
       "       ['David', 'knows', 'Bob'],\n",
       "       ['Eve', 'likes', 'Fish']], dtype='<U7')"
      ]
     },
     "execution_count": 19,
     "metadata": {},
     "output_type": "execute_result"
    }
   ],
   "source": [
    "d.triples"
   ]
  },
  {
   "cell_type": "code",
   "execution_count": 20,
   "id": "822a9c7f",
   "metadata": {},
   "outputs": [
    {
     "name": "stderr",
     "output_type": "stream",
     "text": [
      "Reconstructing all label-based triples. This is expensive and rarely needed.\n"
     ]
    },
    {
     "name": "stdout",
     "output_type": "stream",
     "text": [
      " 0:Alice   0:has      2:Cat    \n",
      " 0:Alice   1:knows    6:Eve    \n",
      " 0:Alice   2:likes    1:Bob    \n",
      " 1:Bob     0:has      5:Dog    \n",
      " 1:Bob     2:likes    0:Alice  \n",
      " 3:Charlie 1:knows    0:Alice  \n",
      " 3:Charlie 2:likes    6:Eve    \n",
      " 4:David   0:has      7:Fish   \n",
      " 4:David   1:knows    1:Bob    \n",
      " 6:Eve     2:likes    7:Fish   \n"
     ]
    }
   ],
   "source": [
    "id_to_entity={v: k for k, v in d.entity_to_id.items()}\n",
    "id_to_relation={v: k for k, v in d.relation_to_id.items()}\n",
    "\n",
    "for i in d.map_triples(d.triples):\n",
    "    s,p,o =int(i[0]), int(i[1]), int(i[2])\n",
    "    h,r,t = id_to_entity[s], id_to_relation[p], id_to_entity[o]\n",
    "    print(f\"{s:2d}:{h:7}{p:2d}:{r:7} {o:2d}:{t:7}\")"
   ]
  },
  {
   "cell_type": "code",
   "execution_count": 21,
   "id": "f05d0525",
   "metadata": {},
   "outputs": [
    {
     "data": {
      "text/html": [
       "<div>\n",
       "<style scoped>\n",
       "    .dataframe tbody tr th:only-of-type {\n",
       "        vertical-align: middle;\n",
       "    }\n",
       "\n",
       "    .dataframe tbody tr th {\n",
       "        vertical-align: top;\n",
       "    }\n",
       "\n",
       "    .dataframe thead th {\n",
       "        text-align: right;\n",
       "    }\n",
       "</style>\n",
       "<table border=\"1\" class=\"dataframe\">\n",
       "  <thead>\n",
       "    <tr style=\"text-align: right;\">\n",
       "      <th></th>\n",
       "      <th>subject</th>\n",
       "      <th>predicate</th>\n",
       "      <th>object</th>\n",
       "    </tr>\n",
       "  </thead>\n",
       "  <tbody>\n",
       "    <tr>\n",
       "      <th>0</th>\n",
       "      <td>Alice</td>\n",
       "      <td>friend_with</td>\n",
       "      <td>Bob</td>\n",
       "    </tr>\n",
       "    <tr>\n",
       "      <th>1</th>\n",
       "      <td>Alice</td>\n",
       "      <td>friend_with</td>\n",
       "      <td>Charlie</td>\n",
       "    </tr>\n",
       "    <tr>\n",
       "      <th>2</th>\n",
       "      <td>Alice</td>\n",
       "      <td>has_hobby</td>\n",
       "      <td>Reading</td>\n",
       "    </tr>\n",
       "    <tr>\n",
       "      <th>3</th>\n",
       "      <td>Alice</td>\n",
       "      <td>has_hobby</td>\n",
       "      <td>Swimming</td>\n",
       "    </tr>\n",
       "    <tr>\n",
       "      <th>4</th>\n",
       "      <td>Alice</td>\n",
       "      <td>has_occupation</td>\n",
       "      <td>Engineer</td>\n",
       "    </tr>\n",
       "    <tr>\n",
       "      <th>5</th>\n",
       "      <td>Alice</td>\n",
       "      <td>has_occupation</td>\n",
       "      <td>Scientist</td>\n",
       "    </tr>\n",
       "    <tr>\n",
       "      <th>6</th>\n",
       "      <td>Bob</td>\n",
       "      <td>friend_with</td>\n",
       "      <td>Alice</td>\n",
       "    </tr>\n",
       "    <tr>\n",
       "      <th>7</th>\n",
       "      <td>Bob</td>\n",
       "      <td>friend_with</td>\n",
       "      <td>David</td>\n",
       "    </tr>\n",
       "    <tr>\n",
       "      <th>8</th>\n",
       "      <td>Bob</td>\n",
       "      <td>has_hobby</td>\n",
       "      <td>Football</td>\n",
       "    </tr>\n",
       "    <tr>\n",
       "      <th>9</th>\n",
       "      <td>Bob</td>\n",
       "      <td>has_hobby</td>\n",
       "      <td>Cycling</td>\n",
       "    </tr>\n",
       "    <tr>\n",
       "      <th>10</th>\n",
       "      <td>Bob</td>\n",
       "      <td>has_occupation</td>\n",
       "      <td>Doctor</td>\n",
       "    </tr>\n",
       "    <tr>\n",
       "      <th>11</th>\n",
       "      <td>Bob</td>\n",
       "      <td>has_occupation</td>\n",
       "      <td>Chef</td>\n",
       "    </tr>\n",
       "    <tr>\n",
       "      <th>12</th>\n",
       "      <td>Charlie</td>\n",
       "      <td>friend_with</td>\n",
       "      <td>Alice</td>\n",
       "    </tr>\n",
       "    <tr>\n",
       "      <th>13</th>\n",
       "      <td>Charlie</td>\n",
       "      <td>friend_with</td>\n",
       "      <td>Eve</td>\n",
       "    </tr>\n",
       "    <tr>\n",
       "      <th>14</th>\n",
       "      <td>Charlie</td>\n",
       "      <td>has_hobby</td>\n",
       "      <td>Gaming</td>\n",
       "    </tr>\n",
       "    <tr>\n",
       "      <th>15</th>\n",
       "      <td>Charlie</td>\n",
       "      <td>has_hobby</td>\n",
       "      <td>Photography</td>\n",
       "    </tr>\n",
       "    <tr>\n",
       "      <th>16</th>\n",
       "      <td>Charlie</td>\n",
       "      <td>has_occupation</td>\n",
       "      <td>Teacher</td>\n",
       "    </tr>\n",
       "    <tr>\n",
       "      <th>17</th>\n",
       "      <td>Charlie</td>\n",
       "      <td>has_occupation</td>\n",
       "      <td>Lawyer</td>\n",
       "    </tr>\n",
       "    <tr>\n",
       "      <th>18</th>\n",
       "      <td>David</td>\n",
       "      <td>friend_with</td>\n",
       "      <td>Bob</td>\n",
       "    </tr>\n",
       "    <tr>\n",
       "      <th>19</th>\n",
       "      <td>David</td>\n",
       "      <td>friend_with</td>\n",
       "      <td>Frank</td>\n",
       "    </tr>\n",
       "    <tr>\n",
       "      <th>20</th>\n",
       "      <td>David</td>\n",
       "      <td>has_hobby</td>\n",
       "      <td>Swimming</td>\n",
       "    </tr>\n",
       "    <tr>\n",
       "      <th>21</th>\n",
       "      <td>David</td>\n",
       "      <td>has_hobby</td>\n",
       "      <td>Hiking</td>\n",
       "    </tr>\n",
       "    <tr>\n",
       "      <th>22</th>\n",
       "      <td>David</td>\n",
       "      <td>has_occupation</td>\n",
       "      <td>Lawyer</td>\n",
       "    </tr>\n",
       "    <tr>\n",
       "      <th>23</th>\n",
       "      <td>David</td>\n",
       "      <td>has_occupation</td>\n",
       "      <td>Pilot</td>\n",
       "    </tr>\n",
       "    <tr>\n",
       "      <th>24</th>\n",
       "      <td>Eve</td>\n",
       "      <td>friend_with</td>\n",
       "      <td>Charlie</td>\n",
       "    </tr>\n",
       "    <tr>\n",
       "      <th>25</th>\n",
       "      <td>Eve</td>\n",
       "      <td>friend_with</td>\n",
       "      <td>Frank</td>\n",
       "    </tr>\n",
       "    <tr>\n",
       "      <th>26</th>\n",
       "      <td>Eve</td>\n",
       "      <td>has_hobby</td>\n",
       "      <td>Painting</td>\n",
       "    </tr>\n",
       "    <tr>\n",
       "      <th>27</th>\n",
       "      <td>Eve</td>\n",
       "      <td>has_hobby</td>\n",
       "      <td>Running</td>\n",
       "    </tr>\n",
       "    <tr>\n",
       "      <th>28</th>\n",
       "      <td>Eve</td>\n",
       "      <td>has_occupation</td>\n",
       "      <td>Chef</td>\n",
       "    </tr>\n",
       "    <tr>\n",
       "      <th>29</th>\n",
       "      <td>Eve</td>\n",
       "      <td>has_occupation</td>\n",
       "      <td>Nurse</td>\n",
       "    </tr>\n",
       "  </tbody>\n",
       "</table>\n",
       "</div>"
      ],
      "text/plain": [
       "    subject       predicate       object\n",
       "0     Alice     friend_with          Bob\n",
       "1     Alice     friend_with      Charlie\n",
       "2     Alice       has_hobby      Reading\n",
       "3     Alice       has_hobby     Swimming\n",
       "4     Alice  has_occupation     Engineer\n",
       "5     Alice  has_occupation    Scientist\n",
       "6       Bob     friend_with        Alice\n",
       "7       Bob     friend_with        David\n",
       "8       Bob       has_hobby     Football\n",
       "9       Bob       has_hobby      Cycling\n",
       "10      Bob  has_occupation       Doctor\n",
       "11      Bob  has_occupation         Chef\n",
       "12  Charlie     friend_with        Alice\n",
       "13  Charlie     friend_with          Eve\n",
       "14  Charlie       has_hobby       Gaming\n",
       "15  Charlie       has_hobby  Photography\n",
       "16  Charlie  has_occupation      Teacher\n",
       "17  Charlie  has_occupation       Lawyer\n",
       "18    David     friend_with          Bob\n",
       "19    David     friend_with        Frank\n",
       "20    David       has_hobby     Swimming\n",
       "21    David       has_hobby       Hiking\n",
       "22    David  has_occupation       Lawyer\n",
       "23    David  has_occupation        Pilot\n",
       "24      Eve     friend_with      Charlie\n",
       "25      Eve     friend_with        Frank\n",
       "26      Eve       has_hobby     Painting\n",
       "27      Eve       has_hobby      Running\n",
       "28      Eve  has_occupation         Chef\n",
       "29      Eve  has_occupation        Nurse"
      ]
     },
     "execution_count": 21,
     "metadata": {},
     "output_type": "execute_result"
    }
   ],
   "source": [
    "import pandas as pd\n",
    "subjects = ['Alice', 'Alice', 'Alice', 'Alice', 'Alice', 'Alice', 'Bob', 'Bob', 'Bob', 'Bob', 'Bob', 'Bob', 'Charlie', 'Charlie', 'Charlie', 'Charlie', 'Charlie', 'Charlie', 'David', 'David', 'David', 'David', 'David', 'David', 'Eve', 'Eve', 'Eve', 'Eve', 'Eve', 'Eve']\n",
    "predicates = ['friend_with', 'friend_with', 'has_hobby', 'has_hobby', 'has_occupation', 'has_occupation', 'friend_with', 'friend_with', 'has_hobby', 'has_hobby', 'has_occupation', 'has_occupation', 'friend_with', 'friend_with', 'has_hobby', 'has_hobby', 'has_occupation', 'has_occupation', 'friend_with', 'friend_with', 'has_hobby', 'has_hobby', 'has_occupation', 'has_occupation', 'friend_with', 'friend_with', 'has_hobby', 'has_hobby', 'has_occupation', 'has_occupation']\n",
    "objects = ['Bob', 'Charlie', 'Reading', 'Swimming', 'Engineer', 'Scientist', 'Alice', 'David', 'Football', 'Cycling', 'Doctor', 'Chef', 'Alice', 'Eve', 'Gaming', 'Photography', 'Teacher', 'Lawyer', 'Bob', 'Frank', 'Swimming', 'Hiking', 'Lawyer', 'Pilot', 'Charlie', 'Frank', 'Painting', 'Running', 'Chef', 'Nurse']\n",
    "\n",
    "\n",
    "df = pd.DataFrame({'subject': subjects, 'predicate': predicates, 'object': objects})\n",
    "df.to_csv('dataset30.tsv', sep='\\t', index=False)\n",
    "df"
   ]
  },
  {
   "cell_type": "code",
   "execution_count": null,
   "id": "4c66e262",
   "metadata": {},
   "outputs": [],
   "source": []
  }
 ],
 "metadata": {
  "kernelspec": {
   "display_name": "Python 3 (ipykernel)",
   "language": "python",
   "name": "python3"
  },
  "language_info": {
   "codemirror_mode": {
    "name": "ipython",
    "version": 3
   },
   "file_extension": ".py",
   "mimetype": "text/x-python",
   "name": "python",
   "nbconvert_exporter": "python",
   "pygments_lexer": "ipython3",
   "version": "3.8.16"
  }
 },
 "nbformat": 4,
 "nbformat_minor": 5
}
