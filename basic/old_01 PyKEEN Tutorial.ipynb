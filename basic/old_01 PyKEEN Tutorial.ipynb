{
 "cells": [
  {
   "cell_type": "markdown",
   "id": "d5f89d00",
   "metadata": {},
   "source": [
    "# PyKEEN Tutorial\n",
    "\n",
    "This tutorial will guide you through the process of using PyKEEN for knowledge graph embedding. We will cover the following topics:\n",
    "\n",
    "1. Data Preparation\n",
    "2. Creating SPO triples\n",
    "3. Setting up Models\n",
    "4. Evaluations\n",
    "\n",
    "Before we start, make sure you have installed the PyKEEN library. If not, you can install it by running `!pip install pykeen` in a code cell."
   ]
  },
  {
   "cell_type": "markdown",
   "id": "a13325e3",
   "metadata": {},
   "source": [
    "## 1. Data Preparation\n",
    "\n",
    "In this section, we will load and prepare our data. The data should be in a TSV (Tab-Separated Values) format. We will use pandas to load the data and prepare it for PyKEEN."
   ]
  },
  {
   "cell_type": "code",
   "execution_count": 133,
   "id": "100a4452",
   "metadata": {},
   "outputs": [
    {
     "data": {
      "text/html": [
       "<div>\n",
       "<style scoped>\n",
       "    .dataframe tbody tr th:only-of-type {\n",
       "        vertical-align: middle;\n",
       "    }\n",
       "\n",
       "    .dataframe tbody tr th {\n",
       "        vertical-align: top;\n",
       "    }\n",
       "\n",
       "    .dataframe thead th {\n",
       "        text-align: right;\n",
       "    }\n",
       "</style>\n",
       "<table border=\"1\" class=\"dataframe\">\n",
       "  <thead>\n",
       "    <tr style=\"text-align: right;\">\n",
       "      <th></th>\n",
       "      <th>subject</th>\n",
       "      <th>predicate</th>\n",
       "      <th>object</th>\n",
       "    </tr>\n",
       "  </thead>\n",
       "  <tbody>\n",
       "    <tr>\n",
       "      <th>0</th>\n",
       "      <td>Alice</td>\n",
       "      <td>likes</td>\n",
       "      <td>Bob</td>\n",
       "    </tr>\n",
       "    <tr>\n",
       "      <th>1</th>\n",
       "      <td>Alice</td>\n",
       "      <td>knows</td>\n",
       "      <td>Eve</td>\n",
       "    </tr>\n",
       "    <tr>\n",
       "      <th>2</th>\n",
       "      <td>Alice</td>\n",
       "      <td>has</td>\n",
       "      <td>Cat</td>\n",
       "    </tr>\n",
       "    <tr>\n",
       "      <th>3</th>\n",
       "      <td>Bob</td>\n",
       "      <td>likes</td>\n",
       "      <td>Alice</td>\n",
       "    </tr>\n",
       "    <tr>\n",
       "      <th>4</th>\n",
       "      <td>Bob</td>\n",
       "      <td>has</td>\n",
       "      <td>Dog</td>\n",
       "    </tr>\n",
       "    <tr>\n",
       "      <th>5</th>\n",
       "      <td>Charlie</td>\n",
       "      <td>knows</td>\n",
       "      <td>Alice</td>\n",
       "    </tr>\n",
       "    <tr>\n",
       "      <th>6</th>\n",
       "      <td>Charlie</td>\n",
       "      <td>likes</td>\n",
       "      <td>Eve</td>\n",
       "    </tr>\n",
       "    <tr>\n",
       "      <th>7</th>\n",
       "      <td>David</td>\n",
       "      <td>has</td>\n",
       "      <td>Fish</td>\n",
       "    </tr>\n",
       "    <tr>\n",
       "      <th>8</th>\n",
       "      <td>David</td>\n",
       "      <td>knows</td>\n",
       "      <td>Bob</td>\n",
       "    </tr>\n",
       "    <tr>\n",
       "      <th>9</th>\n",
       "      <td>Eve</td>\n",
       "      <td>likes</td>\n",
       "      <td>Fish</td>\n",
       "    </tr>\n",
       "  </tbody>\n",
       "</table>\n",
       "</div>"
      ],
      "text/plain": [
       "   subject predicate object\n",
       "0    Alice     likes    Bob\n",
       "1    Alice     knows    Eve\n",
       "2    Alice       has    Cat\n",
       "3      Bob     likes  Alice\n",
       "4      Bob       has    Dog\n",
       "5  Charlie     knows  Alice\n",
       "6  Charlie     likes    Eve\n",
       "7    David       has   Fish\n",
       "8    David     knows    Bob\n",
       "9      Eve     likes   Fish"
      ]
     },
     "execution_count": 133,
     "metadata": {},
     "output_type": "execute_result"
    }
   ],
   "source": [
    "import pandas as pd\n",
    "\n",
    "# Define the subjects, predicates, and objects\n",
    "subjects = ['Alice', 'Alice', 'Alice', 'Bob', 'Bob', 'Charlie', 'Charlie', 'David', 'David', 'Eve']\n",
    "predicates = ['likes', 'knows', 'has', 'likes', 'has', 'knows', 'likes', 'has', 'knows', 'likes']\n",
    "objects = ['Bob', 'Eve', 'Cat', 'Alice', 'Dog', 'Alice', 'Eve', 'Fish', 'Bob', 'Fish']\n",
    "\n",
    "# Create a dataframe\n",
    "df = pd.DataFrame({'subject': subjects, 'predicate': predicates, 'object': objects})\n",
    "\n",
    "# Save the dataframe to a TSV file\n",
    "df.to_csv('dataset10.tsv', sep='\\t', index=False)\n",
    "\n",
    "df"
   ]
  },
  {
   "cell_type": "code",
   "execution_count": 146,
   "id": "bbd0f5e1",
   "metadata": {},
   "outputs": [
    {
     "data": {
      "text/html": [
       "<div>\n",
       "<style scoped>\n",
       "    .dataframe tbody tr th:only-of-type {\n",
       "        vertical-align: middle;\n",
       "    }\n",
       "\n",
       "    .dataframe tbody tr th {\n",
       "        vertical-align: top;\n",
       "    }\n",
       "\n",
       "    .dataframe thead th {\n",
       "        text-align: right;\n",
       "    }\n",
       "</style>\n",
       "<table border=\"1\" class=\"dataframe\">\n",
       "  <thead>\n",
       "    <tr style=\"text-align: right;\">\n",
       "      <th></th>\n",
       "      <th>subject</th>\n",
       "      <th>predicate</th>\n",
       "      <th>object</th>\n",
       "    </tr>\n",
       "  </thead>\n",
       "  <tbody>\n",
       "    <tr>\n",
       "      <th>0</th>\n",
       "      <td>Alice</td>\n",
       "      <td>friend_with</td>\n",
       "      <td>Bob</td>\n",
       "    </tr>\n",
       "    <tr>\n",
       "      <th>1</th>\n",
       "      <td>Alice</td>\n",
       "      <td>friend_with</td>\n",
       "      <td>Charlie</td>\n",
       "    </tr>\n",
       "    <tr>\n",
       "      <th>2</th>\n",
       "      <td>Alice</td>\n",
       "      <td>has_hobby</td>\n",
       "      <td>Reading</td>\n",
       "    </tr>\n",
       "    <tr>\n",
       "      <th>3</th>\n",
       "      <td>Alice</td>\n",
       "      <td>has_hobby</td>\n",
       "      <td>Swimming</td>\n",
       "    </tr>\n",
       "    <tr>\n",
       "      <th>4</th>\n",
       "      <td>Alice</td>\n",
       "      <td>has_occupation</td>\n",
       "      <td>Engineer</td>\n",
       "    </tr>\n",
       "    <tr>\n",
       "      <th>5</th>\n",
       "      <td>Alice</td>\n",
       "      <td>has_occupation</td>\n",
       "      <td>Scientist</td>\n",
       "    </tr>\n",
       "    <tr>\n",
       "      <th>6</th>\n",
       "      <td>Bob</td>\n",
       "      <td>friend_with</td>\n",
       "      <td>Alice</td>\n",
       "    </tr>\n",
       "    <tr>\n",
       "      <th>7</th>\n",
       "      <td>Bob</td>\n",
       "      <td>friend_with</td>\n",
       "      <td>David</td>\n",
       "    </tr>\n",
       "    <tr>\n",
       "      <th>8</th>\n",
       "      <td>Bob</td>\n",
       "      <td>has_hobby</td>\n",
       "      <td>Football</td>\n",
       "    </tr>\n",
       "    <tr>\n",
       "      <th>9</th>\n",
       "      <td>Bob</td>\n",
       "      <td>has_hobby</td>\n",
       "      <td>Cycling</td>\n",
       "    </tr>\n",
       "    <tr>\n",
       "      <th>10</th>\n",
       "      <td>Bob</td>\n",
       "      <td>has_occupation</td>\n",
       "      <td>Doctor</td>\n",
       "    </tr>\n",
       "    <tr>\n",
       "      <th>11</th>\n",
       "      <td>Bob</td>\n",
       "      <td>has_occupation</td>\n",
       "      <td>Chef</td>\n",
       "    </tr>\n",
       "    <tr>\n",
       "      <th>12</th>\n",
       "      <td>Charlie</td>\n",
       "      <td>friend_with</td>\n",
       "      <td>Alice</td>\n",
       "    </tr>\n",
       "    <tr>\n",
       "      <th>13</th>\n",
       "      <td>Charlie</td>\n",
       "      <td>friend_with</td>\n",
       "      <td>Eve</td>\n",
       "    </tr>\n",
       "    <tr>\n",
       "      <th>14</th>\n",
       "      <td>Charlie</td>\n",
       "      <td>has_hobby</td>\n",
       "      <td>Gaming</td>\n",
       "    </tr>\n",
       "    <tr>\n",
       "      <th>15</th>\n",
       "      <td>Charlie</td>\n",
       "      <td>has_hobby</td>\n",
       "      <td>Photography</td>\n",
       "    </tr>\n",
       "    <tr>\n",
       "      <th>16</th>\n",
       "      <td>Charlie</td>\n",
       "      <td>has_occupation</td>\n",
       "      <td>Teacher</td>\n",
       "    </tr>\n",
       "    <tr>\n",
       "      <th>17</th>\n",
       "      <td>Charlie</td>\n",
       "      <td>has_occupation</td>\n",
       "      <td>Lawyer</td>\n",
       "    </tr>\n",
       "    <tr>\n",
       "      <th>18</th>\n",
       "      <td>David</td>\n",
       "      <td>friend_with</td>\n",
       "      <td>Bob</td>\n",
       "    </tr>\n",
       "    <tr>\n",
       "      <th>19</th>\n",
       "      <td>David</td>\n",
       "      <td>friend_with</td>\n",
       "      <td>Frank</td>\n",
       "    </tr>\n",
       "    <tr>\n",
       "      <th>20</th>\n",
       "      <td>David</td>\n",
       "      <td>has_hobby</td>\n",
       "      <td>Swimming</td>\n",
       "    </tr>\n",
       "    <tr>\n",
       "      <th>21</th>\n",
       "      <td>David</td>\n",
       "      <td>has_hobby</td>\n",
       "      <td>Hiking</td>\n",
       "    </tr>\n",
       "    <tr>\n",
       "      <th>22</th>\n",
       "      <td>David</td>\n",
       "      <td>has_occupation</td>\n",
       "      <td>Lawyer</td>\n",
       "    </tr>\n",
       "    <tr>\n",
       "      <th>23</th>\n",
       "      <td>David</td>\n",
       "      <td>has_occupation</td>\n",
       "      <td>Pilot</td>\n",
       "    </tr>\n",
       "    <tr>\n",
       "      <th>24</th>\n",
       "      <td>Eve</td>\n",
       "      <td>friend_with</td>\n",
       "      <td>Charlie</td>\n",
       "    </tr>\n",
       "    <tr>\n",
       "      <th>25</th>\n",
       "      <td>Eve</td>\n",
       "      <td>friend_with</td>\n",
       "      <td>Frank</td>\n",
       "    </tr>\n",
       "    <tr>\n",
       "      <th>26</th>\n",
       "      <td>Eve</td>\n",
       "      <td>has_hobby</td>\n",
       "      <td>Painting</td>\n",
       "    </tr>\n",
       "    <tr>\n",
       "      <th>27</th>\n",
       "      <td>Eve</td>\n",
       "      <td>has_hobby</td>\n",
       "      <td>Running</td>\n",
       "    </tr>\n",
       "    <tr>\n",
       "      <th>28</th>\n",
       "      <td>Eve</td>\n",
       "      <td>has_occupation</td>\n",
       "      <td>Chef</td>\n",
       "    </tr>\n",
       "    <tr>\n",
       "      <th>29</th>\n",
       "      <td>Eve</td>\n",
       "      <td>has_occupation</td>\n",
       "      <td>Nurse</td>\n",
       "    </tr>\n",
       "  </tbody>\n",
       "</table>\n",
       "</div>"
      ],
      "text/plain": [
       "    subject       predicate       object\n",
       "0     Alice     friend_with          Bob\n",
       "1     Alice     friend_with      Charlie\n",
       "2     Alice       has_hobby      Reading\n",
       "3     Alice       has_hobby     Swimming\n",
       "4     Alice  has_occupation     Engineer\n",
       "5     Alice  has_occupation    Scientist\n",
       "6       Bob     friend_with        Alice\n",
       "7       Bob     friend_with        David\n",
       "8       Bob       has_hobby     Football\n",
       "9       Bob       has_hobby      Cycling\n",
       "10      Bob  has_occupation       Doctor\n",
       "11      Bob  has_occupation         Chef\n",
       "12  Charlie     friend_with        Alice\n",
       "13  Charlie     friend_with          Eve\n",
       "14  Charlie       has_hobby       Gaming\n",
       "15  Charlie       has_hobby  Photography\n",
       "16  Charlie  has_occupation      Teacher\n",
       "17  Charlie  has_occupation       Lawyer\n",
       "18    David     friend_with          Bob\n",
       "19    David     friend_with        Frank\n",
       "20    David       has_hobby     Swimming\n",
       "21    David       has_hobby       Hiking\n",
       "22    David  has_occupation       Lawyer\n",
       "23    David  has_occupation        Pilot\n",
       "24      Eve     friend_with      Charlie\n",
       "25      Eve     friend_with        Frank\n",
       "26      Eve       has_hobby     Painting\n",
       "27      Eve       has_hobby      Running\n",
       "28      Eve  has_occupation         Chef\n",
       "29      Eve  has_occupation        Nurse"
      ]
     },
     "execution_count": 146,
     "metadata": {},
     "output_type": "execute_result"
    }
   ],
   "source": [
    "subjects = ['Alice', 'Alice', 'Alice', 'Alice', 'Alice', 'Alice', 'Bob', 'Bob', 'Bob', 'Bob', 'Bob', 'Bob', 'Charlie', 'Charlie', 'Charlie', 'Charlie', 'Charlie', 'Charlie', 'David', 'David', 'David', 'David', 'David', 'David', 'Eve', 'Eve', 'Eve', 'Eve', 'Eve', 'Eve']\n",
    "predicates = ['friend_with', 'friend_with', 'has_hobby', 'has_hobby', 'has_occupation', 'has_occupation', 'friend_with', 'friend_with', 'has_hobby', 'has_hobby', 'has_occupation', 'has_occupation', 'friend_with', 'friend_with', 'has_hobby', 'has_hobby', 'has_occupation', 'has_occupation', 'friend_with', 'friend_with', 'has_hobby', 'has_hobby', 'has_occupation', 'has_occupation', 'friend_with', 'friend_with', 'has_hobby', 'has_hobby', 'has_occupation', 'has_occupation']\n",
    "objects = ['Bob', 'Charlie', 'Reading', 'Swimming', 'Engineer', 'Scientist', 'Alice', 'David', 'Football', 'Cycling', 'Doctor', 'Chef', 'Alice', 'Eve', 'Gaming', 'Photography', 'Teacher', 'Lawyer', 'Bob', 'Frank', 'Swimming', 'Hiking', 'Lawyer', 'Pilot', 'Charlie', 'Frank', 'Painting', 'Running', 'Chef', 'Nurse']\n",
    "\n",
    "\n",
    "df = pd.DataFrame({'subject': subjects, 'predicate': predicates, 'object': objects})\n",
    "df.to_csv('dataset30.tsv', sep='\\t', index=False)\n",
    "df"
   ]
  },
  {
   "cell_type": "markdown",
   "id": "a29c7587",
   "metadata": {},
   "source": [
    "## 2. Creating SPO triples\n",
    "\n",
    "Once we have our data loaded, we need to create SPO (Subject-Predicate-Object) triples. These triples represent the relationships between entities in our knowledge graph. In PyKEEN, we can use the `TriplesFactory` class to create these triples."
   ]
  },
  {
   "cell_type": "code",
   "execution_count": 147,
   "id": "169443e1",
   "metadata": {},
   "outputs": [
    {
     "name": "stderr",
     "output_type": "stream",
     "text": [
      "WARNING:pykeen.triples.triples_factory:Reconstructing all label-based triples. This is expensive and rarely needed.\n"
     ]
    },
    {
     "data": {
      "text/plain": [
       "array([['Alice', 'friend_with', 'Bob'],\n",
       "       ['Alice', 'friend_with', 'Charlie'],\n",
       "       ['Alice', 'has_hobby', 'Reading'],\n",
       "       ['Alice', 'has_hobby', 'Swimming'],\n",
       "       ['Alice', 'has_occupation', 'Engineer'],\n",
       "       ['Alice', 'has_occupation', 'Scientist'],\n",
       "       ['Bob', 'friend_with', 'Alice'],\n",
       "       ['Bob', 'friend_with', 'David'],\n",
       "       ['Bob', 'has_hobby', 'Cycling'],\n",
       "       ['Bob', 'has_hobby', 'Football'],\n",
       "       ['Bob', 'has_occupation', 'Chef'],\n",
       "       ['Bob', 'has_occupation', 'Doctor'],\n",
       "       ['Charlie', 'friend_with', 'Alice'],\n",
       "       ['Charlie', 'friend_with', 'Eve'],\n",
       "       ['Charlie', 'has_hobby', 'Gaming'],\n",
       "       ['Charlie', 'has_hobby', 'Photography'],\n",
       "       ['Charlie', 'has_occupation', 'Lawyer'],\n",
       "       ['Charlie', 'has_occupation', 'Teacher'],\n",
       "       ['David', 'friend_with', 'Bob'],\n",
       "       ['David', 'friend_with', 'Frank'],\n",
       "       ['David', 'has_hobby', 'Hiking'],\n",
       "       ['David', 'has_hobby', 'Swimming'],\n",
       "       ['David', 'has_occupation', 'Lawyer'],\n",
       "       ['David', 'has_occupation', 'Pilot'],\n",
       "       ['Eve', 'friend_with', 'Charlie'],\n",
       "       ['Eve', 'friend_with', 'Frank'],\n",
       "       ['Eve', 'has_hobby', 'Painting'],\n",
       "       ['Eve', 'has_hobby', 'Running'],\n",
       "       ['Eve', 'has_occupation', 'Chef'],\n",
       "       ['Eve', 'has_occupation', 'Nurse']], dtype='<U14')"
      ]
     },
     "execution_count": 147,
     "metadata": {},
     "output_type": "execute_result"
    }
   ],
   "source": [
    "from pykeen.triples import TriplesFactory\n",
    "\n",
    "# Assuming your dataframe has columns 'subject', 'predicate', 'object'\n",
    "triples_factory = TriplesFactory.from_labeled_triples(\n",
    "    triples=df[['subject', 'predicate', 'object']].values,\n",
    ")\n",
    "\n",
    "# Display the first few triples\n",
    "triples_factory.triples"
   ]
  },
  {
   "cell_type": "code",
   "execution_count": 149,
   "id": "a5d36025",
   "metadata": {},
   "outputs": [],
   "source": [
    "# training, validation, testing = triples_factory.split(ratios=(.6, .2, .2))\n",
    "training = triples_factory\n",
    "validation = triples_factory\n",
    "testing = triples_factory\n",
    "d=training"
   ]
  },
  {
   "cell_type": "code",
   "execution_count": 150,
   "id": "275f9135",
   "metadata": {},
   "outputs": [
    {
     "data": {
      "text/plain": [
       "{'Alice': 0,\n",
       " 'Bob': 1,\n",
       " 'Charlie': 2,\n",
       " 'Chef': 3,\n",
       " 'Cycling': 4,\n",
       " 'David': 5,\n",
       " 'Doctor': 6,\n",
       " 'Engineer': 7,\n",
       " 'Eve': 8,\n",
       " 'Football': 9,\n",
       " 'Frank': 10,\n",
       " 'Gaming': 11,\n",
       " 'Hiking': 12,\n",
       " 'Lawyer': 13,\n",
       " 'Nurse': 14,\n",
       " 'Painting': 15,\n",
       " 'Photography': 16,\n",
       " 'Pilot': 17,\n",
       " 'Reading': 18,\n",
       " 'Running': 19,\n",
       " 'Scientist': 20,\n",
       " 'Swimming': 21,\n",
       " 'Teacher': 22}"
      ]
     },
     "execution_count": 150,
     "metadata": {},
     "output_type": "execute_result"
    }
   ],
   "source": [
    "d.entity_to_id"
   ]
  },
  {
   "cell_type": "code",
   "execution_count": 151,
   "id": "71068cfd",
   "metadata": {},
   "outputs": [
    {
     "data": {
      "text/plain": [
       "{'friend_with': 0, 'has_hobby': 1, 'has_occupation': 2}"
      ]
     },
     "execution_count": 151,
     "metadata": {},
     "output_type": "execute_result"
    }
   ],
   "source": [
    "d.relation_to_id"
   ]
  },
  {
   "cell_type": "code",
   "execution_count": 152,
   "id": "e9bcb6a1",
   "metadata": {},
   "outputs": [
    {
     "name": "stderr",
     "output_type": "stream",
     "text": [
      "WARNING:pykeen.triples.triples_factory:Reconstructing all label-based triples. This is expensive and rarely needed.\n"
     ]
    },
    {
     "data": {
      "text/plain": [
       "tensor([[ 0,  0,  1],\n",
       "        [ 0,  0,  2],\n",
       "        [ 0,  1, 18],\n",
       "        [ 0,  1, 21],\n",
       "        [ 0,  2,  7],\n",
       "        [ 0,  2, 20],\n",
       "        [ 1,  0,  0],\n",
       "        [ 1,  0,  5],\n",
       "        [ 1,  1,  4],\n",
       "        [ 1,  1,  9],\n",
       "        [ 1,  2,  3],\n",
       "        [ 1,  2,  6],\n",
       "        [ 2,  0,  0],\n",
       "        [ 2,  0,  8],\n",
       "        [ 2,  1, 11],\n",
       "        [ 2,  1, 16],\n",
       "        [ 2,  2, 13],\n",
       "        [ 2,  2, 22],\n",
       "        [ 5,  0,  1],\n",
       "        [ 5,  0, 10],\n",
       "        [ 5,  1, 12],\n",
       "        [ 5,  1, 21],\n",
       "        [ 5,  2, 13],\n",
       "        [ 5,  2, 17],\n",
       "        [ 8,  0,  2],\n",
       "        [ 8,  0, 10],\n",
       "        [ 8,  1, 15],\n",
       "        [ 8,  1, 19],\n",
       "        [ 8,  2,  3],\n",
       "        [ 8,  2, 14]])"
      ]
     },
     "execution_count": 152,
     "metadata": {},
     "output_type": "execute_result"
    }
   ],
   "source": [
    "d.map_triples(d.triples)"
   ]
  },
  {
   "cell_type": "code",
   "execution_count": 153,
   "id": "bff33f16",
   "metadata": {},
   "outputs": [
    {
     "name": "stderr",
     "output_type": "stream",
     "text": [
      "WARNING:pykeen.triples.triples_factory:Reconstructing all label-based triples. This is expensive and rarely needed.\n"
     ]
    },
    {
     "data": {
      "text/plain": [
       "array([['Alice', 'friend_with', 'Bob'],\n",
       "       ['Alice', 'friend_with', 'Charlie'],\n",
       "       ['Alice', 'has_hobby', 'Reading'],\n",
       "       ['Alice', 'has_hobby', 'Swimming'],\n",
       "       ['Alice', 'has_occupation', 'Engineer'],\n",
       "       ['Alice', 'has_occupation', 'Scientist'],\n",
       "       ['Bob', 'friend_with', 'Alice'],\n",
       "       ['Bob', 'friend_with', 'David'],\n",
       "       ['Bob', 'has_hobby', 'Cycling'],\n",
       "       ['Bob', 'has_hobby', 'Football'],\n",
       "       ['Bob', 'has_occupation', 'Chef'],\n",
       "       ['Bob', 'has_occupation', 'Doctor'],\n",
       "       ['Charlie', 'friend_with', 'Alice'],\n",
       "       ['Charlie', 'friend_with', 'Eve'],\n",
       "       ['Charlie', 'has_hobby', 'Gaming'],\n",
       "       ['Charlie', 'has_hobby', 'Photography'],\n",
       "       ['Charlie', 'has_occupation', 'Lawyer'],\n",
       "       ['Charlie', 'has_occupation', 'Teacher'],\n",
       "       ['David', 'friend_with', 'Bob'],\n",
       "       ['David', 'friend_with', 'Frank'],\n",
       "       ['David', 'has_hobby', 'Hiking'],\n",
       "       ['David', 'has_hobby', 'Swimming'],\n",
       "       ['David', 'has_occupation', 'Lawyer'],\n",
       "       ['David', 'has_occupation', 'Pilot'],\n",
       "       ['Eve', 'friend_with', 'Charlie'],\n",
       "       ['Eve', 'friend_with', 'Frank'],\n",
       "       ['Eve', 'has_hobby', 'Painting'],\n",
       "       ['Eve', 'has_hobby', 'Running'],\n",
       "       ['Eve', 'has_occupation', 'Chef'],\n",
       "       ['Eve', 'has_occupation', 'Nurse']], dtype='<U14')"
      ]
     },
     "execution_count": 153,
     "metadata": {},
     "output_type": "execute_result"
    }
   ],
   "source": [
    "d.triples"
   ]
  },
  {
   "cell_type": "code",
   "execution_count": 154,
   "id": "b0824a78",
   "metadata": {},
   "outputs": [
    {
     "name": "stderr",
     "output_type": "stream",
     "text": [
      "WARNING:pykeen.triples.triples_factory:Reconstructing all label-based triples. This is expensive and rarely needed.\n"
     ]
    },
    {
     "name": "stdout",
     "output_type": "stream",
     "text": [
      " 0:Alice   0:friend_with  1:Bob    \n",
      " 0:Alice   0:friend_with  2:Charlie\n",
      " 0:Alice   1:has_hobby 18:Reading\n",
      " 0:Alice   1:has_hobby 21:Swimming\n",
      " 0:Alice   2:has_occupation  7:Engineer\n",
      " 0:Alice   2:has_occupation 20:Scientist\n",
      " 1:Bob     0:friend_with  0:Alice  \n",
      " 1:Bob     0:friend_with  5:David  \n",
      " 1:Bob     1:has_hobby  4:Cycling\n",
      " 1:Bob     1:has_hobby  9:Football\n",
      " 1:Bob     2:has_occupation  3:Chef   \n",
      " 1:Bob     2:has_occupation  6:Doctor \n",
      " 2:Charlie 0:friend_with  0:Alice  \n",
      " 2:Charlie 0:friend_with  8:Eve    \n",
      " 2:Charlie 1:has_hobby 11:Gaming \n",
      " 2:Charlie 1:has_hobby 16:Photography\n",
      " 2:Charlie 2:has_occupation 13:Lawyer \n",
      " 2:Charlie 2:has_occupation 22:Teacher\n",
      " 5:David   0:friend_with  1:Bob    \n",
      " 5:David   0:friend_with 10:Frank  \n",
      " 5:David   1:has_hobby 12:Hiking \n",
      " 5:David   1:has_hobby 21:Swimming\n",
      " 5:David   2:has_occupation 13:Lawyer \n",
      " 5:David   2:has_occupation 17:Pilot  \n",
      " 8:Eve     0:friend_with  2:Charlie\n",
      " 8:Eve     0:friend_with 10:Frank  \n",
      " 8:Eve     1:has_hobby 15:Painting\n",
      " 8:Eve     1:has_hobby 19:Running\n",
      " 8:Eve     2:has_occupation  3:Chef   \n",
      " 8:Eve     2:has_occupation 14:Nurse  \n"
     ]
    }
   ],
   "source": [
    "id_to_entity={v: k for k, v in d.entity_to_id.items()}\n",
    "id_to_relation={v: k for k, v in d.relation_to_id.items()}\n",
    "\n",
    "for i in d.map_triples(d.triples):\n",
    "    s,p,o =int(i[0]), int(i[1]), int(i[2])\n",
    "    h,r,t = id_to_entity[s], id_to_relation[p], id_to_entity[o]\n",
    "    print(f\"{s:2d}:{h:7}{p:2d}:{r:7} {o:2d}:{t:7}\")"
   ]
  },
  {
   "cell_type": "markdown",
   "id": "e70db559",
   "metadata": {},
   "source": [
    "## 3. Setting up Models\n",
    "\n",
    "Now that we have our triples, we can set up our knowledge graph embedding model. PyKEEN provides several models for this purpose. In this tutorial, we will use the TransE model as an example. We will also split our data into training and testing sets."
   ]
  },
  {
   "cell_type": "code",
   "execution_count": 155,
   "id": "0ba5c071",
   "metadata": {},
   "outputs": [
    {
     "name": "stderr",
     "output_type": "stream",
     "text": [
      "WARNING:pykeen.pipeline.api:No random seed is specified. Setting to 2419661460.\n",
      "WARNING:pykeen.utils:No cuda devices were available. The model runs on CPU\n",
      "INFO:pykeen.pipeline.api:Using device: None\n",
      "Training epochs on cpu:   0%|                                                                                                                                                     | 0/5 [00:00<?, ?epoch/s]\n",
      "Training batches on cpu:   0%|                                                                                                                                                    | 0/1 [00:00<?, ?batch/s]\u001b[A\n",
      "Training epochs on cpu:  20%|███████████████████████                                                                                            | 1/5 [00:00<00:00,  4.78epoch/s, loss=1.26, prev_loss=nan]\u001b[A\n",
      "Training batches on cpu:   0%|                                                                                                                                                    | 0/1 [00:00<?, ?batch/s]\u001b[A\n",
      "Training epochs on cpu:  40%|█████████████████████████████████████████████▌                                                                    | 2/5 [00:00<00:00,  4.82epoch/s, loss=1.56, prev_loss=1.26]\u001b[A\n",
      "Training batches on cpu:   0%|                                                                                                                                                    | 0/1 [00:00<?, ?batch/s]\u001b[A\n",
      "Training epochs on cpu:  60%|████████████████████████████████████████████████████████████████████▍                                             | 3/5 [00:00<00:00,  4.73epoch/s, loss=1.09, prev_loss=1.56]\u001b[A\n",
      "Training batches on cpu:   0%|                                                                                                                                                    | 0/1 [00:00<?, ?batch/s]\u001b[A\n",
      "Training epochs on cpu:  80%|███████████████████████████████████████████████████████████████████████████████████████████▏                      | 4/5 [00:00<00:00,  4.78epoch/s, loss=1.17, prev_loss=1.09]\u001b[A\n",
      "Training batches on cpu:   0%|                                                                                                                                                    | 0/1 [00:00<?, ?batch/s]\u001b[A\n",
      "Training epochs on cpu: 100%|██████████████████████████████████████████████████████████████████████████████████████████████████████████████████| 5/5 [00:01<00:00,  4.80epoch/s, loss=1.28, prev_loss=1.17]\u001b[A\n",
      "INFO:pykeen.evaluation.evaluator:Currently automatic memory optimization only supports GPUs, but you're using a CPU. Therefore, the batch_size will be set to the default value.\n",
      "INFO:pykeen.evaluation.evaluator:No evaluation batch_size provided. Setting batch_size to '32'.\n",
      "Evaluating on cpu: 100%|█████████████████████████████████████████████████████████████████████████████████████████████████████████████████████████████████████████████| 30.0/30.0 [00:00<00:00, 900triple/s]\n",
      "INFO:pykeen.evaluation.evaluator:Evaluation took 0.04s seconds\n"
     ]
    },
    {
     "data": {
      "text/html": [
       "<div>\n",
       "<style scoped>\n",
       "    .dataframe tbody tr th:only-of-type {\n",
       "        vertical-align: middle;\n",
       "    }\n",
       "\n",
       "    .dataframe tbody tr th {\n",
       "        vertical-align: top;\n",
       "    }\n",
       "\n",
       "    .dataframe thead th {\n",
       "        text-align: right;\n",
       "    }\n",
       "</style>\n",
       "<table border=\"1\" class=\"dataframe\">\n",
       "  <thead>\n",
       "    <tr style=\"text-align: right;\">\n",
       "      <th></th>\n",
       "      <th>Side</th>\n",
       "      <th>Type</th>\n",
       "      <th>Metric</th>\n",
       "      <th>Value</th>\n",
       "    </tr>\n",
       "  </thead>\n",
       "  <tbody>\n",
       "    <tr>\n",
       "      <th>0</th>\n",
       "      <td>head</td>\n",
       "      <td>optimistic</td>\n",
       "      <td>inverse_arithmetic_mean_rank</td>\n",
       "      <td>0.086957</td>\n",
       "    </tr>\n",
       "    <tr>\n",
       "      <th>1</th>\n",
       "      <td>tail</td>\n",
       "      <td>optimistic</td>\n",
       "      <td>inverse_arithmetic_mean_rank</td>\n",
       "      <td>0.080645</td>\n",
       "    </tr>\n",
       "    <tr>\n",
       "      <th>2</th>\n",
       "      <td>both</td>\n",
       "      <td>optimistic</td>\n",
       "      <td>inverse_arithmetic_mean_rank</td>\n",
       "      <td>0.083682</td>\n",
       "    </tr>\n",
       "    <tr>\n",
       "      <th>3</th>\n",
       "      <td>head</td>\n",
       "      <td>realistic</td>\n",
       "      <td>inverse_arithmetic_mean_rank</td>\n",
       "      <td>0.086957</td>\n",
       "    </tr>\n",
       "    <tr>\n",
       "      <th>4</th>\n",
       "      <td>tail</td>\n",
       "      <td>realistic</td>\n",
       "      <td>inverse_arithmetic_mean_rank</td>\n",
       "      <td>0.080645</td>\n",
       "    </tr>\n",
       "    <tr>\n",
       "      <th>...</th>\n",
       "      <td>...</td>\n",
       "      <td>...</td>\n",
       "      <td>...</td>\n",
       "      <td>...</td>\n",
       "    </tr>\n",
       "    <tr>\n",
       "      <th>220</th>\n",
       "      <td>tail</td>\n",
       "      <td>realistic</td>\n",
       "      <td>adjusted_hits_at_k</td>\n",
       "      <td>0.083333</td>\n",
       "    </tr>\n",
       "    <tr>\n",
       "      <th>221</th>\n",
       "      <td>both</td>\n",
       "      <td>realistic</td>\n",
       "      <td>adjusted_hits_at_k</td>\n",
       "      <td>0.092105</td>\n",
       "    </tr>\n",
       "    <tr>\n",
       "      <th>222</th>\n",
       "      <td>head</td>\n",
       "      <td>pessimistic</td>\n",
       "      <td>adjusted_hits_at_k</td>\n",
       "      <td>0.100711</td>\n",
       "    </tr>\n",
       "    <tr>\n",
       "      <th>223</th>\n",
       "      <td>tail</td>\n",
       "      <td>pessimistic</td>\n",
       "      <td>adjusted_hits_at_k</td>\n",
       "      <td>0.083333</td>\n",
       "    </tr>\n",
       "    <tr>\n",
       "      <th>224</th>\n",
       "      <td>both</td>\n",
       "      <td>pessimistic</td>\n",
       "      <td>adjusted_hits_at_k</td>\n",
       "      <td>0.092105</td>\n",
       "    </tr>\n",
       "  </tbody>\n",
       "</table>\n",
       "<p>225 rows × 4 columns</p>\n",
       "</div>"
      ],
      "text/plain": [
       "     Side         Type                        Metric     Value\n",
       "0    head   optimistic  inverse_arithmetic_mean_rank  0.086957\n",
       "1    tail   optimistic  inverse_arithmetic_mean_rank  0.080645\n",
       "2    both   optimistic  inverse_arithmetic_mean_rank  0.083682\n",
       "3    head    realistic  inverse_arithmetic_mean_rank  0.086957\n",
       "4    tail    realistic  inverse_arithmetic_mean_rank  0.080645\n",
       "..    ...          ...                           ...       ...\n",
       "220  tail    realistic            adjusted_hits_at_k  0.083333\n",
       "221  both    realistic            adjusted_hits_at_k  0.092105\n",
       "222  head  pessimistic            adjusted_hits_at_k  0.100711\n",
       "223  tail  pessimistic            adjusted_hits_at_k  0.083333\n",
       "224  both  pessimistic            adjusted_hits_at_k  0.092105\n",
       "\n",
       "[225 rows x 4 columns]"
      ]
     },
     "execution_count": 155,
     "metadata": {},
     "output_type": "execute_result"
    }
   ],
   "source": [
    "from pykeen.pipeline import pipeline\n",
    "\n",
    "\n",
    "\n",
    "result = pipeline(\n",
    "    model='TransE',\n",
    "    training=training,\n",
    "    testing=testing,\n",
    "    validation=validation,\n",
    ")\n",
    "\n",
    "# The trained model is stored in the pipeline result\n",
    "model = result.model\n",
    "# The result object also contains the evaluation metrics\n",
    "result.metric_results.to_df()"
   ]
  },
  {
   "cell_type": "markdown",
   "id": "60f35cdf",
   "metadata": {},
   "source": [
    "## 4. Evaluations\n",
    "\n",
    "After training our model, we can evaluate its performance. PyKEEN provides several evaluation metrics, such as Hits@10, Mean Rank, and Mean Reciprocal Rank. These metrics can be calculated using the `Evaluator` class."
   ]
  },
  {
   "cell_type": "code",
   "execution_count": 156,
   "id": "ae0309a7",
   "metadata": {},
   "outputs": [
    {
     "name": "stderr",
     "output_type": "stream",
     "text": [
      "INFO:pykeen.evaluation.evaluator:Currently automatic memory optimization only supports GPUs, but you're using a CPU. Therefore, the batch_size will be set to the default value.\n",
      "INFO:pykeen.evaluation.evaluator:No evaluation batch_size provided. Setting batch_size to '32'.\n",
      "Evaluating on cpu: 100%|█████████████████████████████████████████████████████████████████████████████████████████████████████████████████████████████████████████████| 30.0/30.0 [00:00<00:00, 753triple/s]\n",
      "INFO:pykeen.evaluation.evaluator:Evaluation took 0.05s seconds\n"
     ]
    },
    {
     "name": "stdout",
     "output_type": "stream",
     "text": [
      "Hits@10: 0.0\n",
      "Hits@10: 0.06666666666666667\n",
      "Hits@10: 0.16666666666666666\n",
      "Hits@10: 0.5\n",
      "Mean Reciprocal Rank: 0.12180106341838835\n"
     ]
    }
   ],
   "source": [
    "from pykeen.evaluation import RankBasedEvaluator\n",
    "\n",
    "# Create an evaluator\n",
    "evaluator = RankBasedEvaluator()\n",
    "\n",
    "# Evaluate the model\n",
    "metrics = evaluator.evaluate(result.model, testing.mapped_triples, additional_filter_triples=[training.mapped_triples, validation.mapped_triples])\n",
    "\n",
    "# Print the metrics\n",
    "print(f\"Hits@1: {metrics.get_metric('hits@1')}\")\n",
    "print(f\"Hits@3: {metrics.get_metric('hits@3')}\")\n",
    "print(f\"Hits@5: {metrics.get_metric('hits@5')}\")\n",
    "print(f\"Hits@10: {metrics.get_metric('hits@10')}\")\n",
    "print(f\"Mean Reciprocal Rank: {metrics.get_metric('mean_reciprocal_rank')}\")"
   ]
  },
  {
   "cell_type": "markdown",
   "id": "6020fbd6",
   "metadata": {},
   "source": [
    "## 5. Embedding Visualization\n",
    "\n",
    "Visualizing the embeddings can provide some insights into the relationships between entities in our knowledge graph. We can use Principal Component Analysis (PCA) to reduce the dimensionality of our embeddings and then plot them."
   ]
  },
  {
   "cell_type": "code",
   "execution_count": 157,
   "id": "cad03e84",
   "metadata": {},
   "outputs": [
    {
     "data": {
      "text/plain": [
       "7"
      ]
     },
     "execution_count": 157,
     "metadata": {},
     "output_type": "execute_result"
    }
   ],
   "source": [
    "entity"
   ]
  },
  {
   "cell_type": "code",
   "execution_count": 158,
   "id": "2e82b719",
   "metadata": {},
   "outputs": [
    {
     "data": {
      "image/png": "[encoded data removed]",
      "text/plain": [
       "<Figure size 400x400 with 1 Axes>"
      ]
     },
     "metadata": {},
     "output_type": "display_data"
    }
   ],
   "source": [
    "from matplotlib import pyplot as plt\n",
    "plt.rcParams['figure.figsize']=(4,4)\n",
    "from sklearn.decomposition import PCA\n",
    "\n",
    "# Get the entity embeddings\n",
    "# entity_embeddings = model.entity_embeddings(indices=None).detach().numpy()\n",
    "entity_embeddings = model.entity_representations[0](indices=None).detach().numpy()\n",
    "\n",
    "# Perform PCA\n",
    "pca = PCA(n_components=2)\n",
    "entity_embeddings_pca = pca.fit_transform(entity_embeddings)\n",
    "\n",
    "# Plot the embeddings\n",
    "# plt.figure(figsize=(10, 10))\n",
    "plt.scatter(entity_embeddings_pca[:, 0], entity_embeddings_pca[:, 1])\n",
    "for i, entity in enumerate(triples_factory.entity_id_to_label):\n",
    "    plt.annotate(id_to_entity[entity], (entity_embeddings_pca[i, 0], entity_embeddings_pca[i, 1]))\n",
    "plt.xlabel('Principal Component 1')\n",
    "plt.ylabel('Principal Component 2')\n",
    "plt.title('Entity Embeddings')\n",
    "plt.show()"
   ]
  },
  {
   "cell_type": "code",
   "execution_count": 159,
   "id": "be19cbfd",
   "metadata": {},
   "outputs": [
    {
     "ename": "AttributeError",
     "evalue": "'TransE' object has no attribute 'triples_factory'",
     "output_type": "error",
     "traceback": [
      "\u001b[0;31m---------------------------------------------------------------------------\u001b[0m",
      "\u001b[0;31mAttributeError\u001b[0m                            Traceback (most recent call last)",
      "Cell \u001b[0;32mIn[159], line 8\u001b[0m\n\u001b[1;32m      5\u001b[0m relation_embeddings_pca \u001b[38;5;241m=\u001b[39m pca\u001b[38;5;241m.\u001b[39mtransform(relation_embeddings)\n\u001b[1;32m      7\u001b[0m \u001b[38;5;66;03m# Get the relation names\u001b[39;00m\n\u001b[0;32m----> 8\u001b[0m relation_labels \u001b[38;5;241m=\u001b[39m \u001b[43mmodel\u001b[49m\u001b[38;5;241;43m.\u001b[39;49m\u001b[43mtriples_factory\u001b[49m\u001b[38;5;241m.\u001b[39mget_relation_labels()\n\u001b[1;32m     10\u001b[0m \u001b[38;5;66;03m# Plot the embeddings with relation names\u001b[39;00m\n\u001b[1;32m     11\u001b[0m plt\u001b[38;5;241m.\u001b[39mfigure(figsize\u001b[38;5;241m=\u001b[39m(\u001b[38;5;241m10\u001b[39m, \u001b[38;5;241m10\u001b[39m))\n",
      "File \u001b[0;32m~/miniconda3/envs/pykeen-tutorials/lib/python3.8/site-packages/torch/nn/modules/module.py:1614\u001b[0m, in \u001b[0;36mModule.__getattr__\u001b[0;34m(self, name)\u001b[0m\n\u001b[1;32m   1612\u001b[0m     \u001b[38;5;28;01mif\u001b[39;00m name \u001b[38;5;129;01min\u001b[39;00m modules:\n\u001b[1;32m   1613\u001b[0m         \u001b[38;5;28;01mreturn\u001b[39;00m modules[name]\n\u001b[0;32m-> 1614\u001b[0m \u001b[38;5;28;01mraise\u001b[39;00m \u001b[38;5;167;01mAttributeError\u001b[39;00m(\u001b[38;5;124m\"\u001b[39m\u001b[38;5;124m'\u001b[39m\u001b[38;5;132;01m{}\u001b[39;00m\u001b[38;5;124m'\u001b[39m\u001b[38;5;124m object has no attribute \u001b[39m\u001b[38;5;124m'\u001b[39m\u001b[38;5;132;01m{}\u001b[39;00m\u001b[38;5;124m'\u001b[39m\u001b[38;5;124m\"\u001b[39m\u001b[38;5;241m.\u001b[39mformat(\n\u001b[1;32m   1615\u001b[0m     \u001b[38;5;28mtype\u001b[39m(\u001b[38;5;28mself\u001b[39m)\u001b[38;5;241m.\u001b[39m\u001b[38;5;18m__name__\u001b[39m, name))\n",
      "\u001b[0;31mAttributeError\u001b[0m: 'TransE' object has no attribute 'triples_factory'"
     ]
    }
   ],
   "source": [
    "# Get the relation embeddings\n",
    "relation_embeddings = model.relation_representations[0](indices=None).detach().numpy()\n",
    "\n",
    "# Perform PCA\n",
    "relation_embeddings_pca = pca.transform(relation_embeddings)\n",
    "\n",
    "# Get the relation names\n",
    "relation_labels = model.triples_factory.get_relation_labels()\n",
    "\n",
    "# Plot the embeddings with relation names\n",
    "plt.figure(figsize=(10, 10))\n",
    "plt.scatter(relation_embeddings_pca[:, 0], relation_embeddings_pca[:, 1])\n",
    "for i, relation in enumerate(relation_labels):\n",
    "    plt.annotate(relation, (relation_embeddings_pca[i, 0], relation_embeddings_pca[i, 1]))\n",
    "plt.xlabel('Principal Component 1')\n",
    "plt.ylabel('Principal Component 2')\n",
    "plt.title('Relation Embeddings')\n",
    "plt.show()"
   ]
  },
  {
   "cell_type": "code",
   "execution_count": 34,
   "id": "614f70a0",
   "metadata": {},
   "outputs": [
    {
     "ename": "AttributeError",
     "evalue": "'TransE' object has no attribute 'triples_factory'",
     "output_type": "error",
     "traceback": [
      "\u001b[0;31m---------------------------------------------------------------------------\u001b[0m",
      "\u001b[0;31mAttributeError\u001b[0m                            Traceback (most recent call last)",
      "Cell \u001b[0;32mIn[34], line 2\u001b[0m\n\u001b[1;32m      1\u001b[0m \u001b[38;5;66;03m# Get the entity names\u001b[39;00m\n\u001b[0;32m----> 2\u001b[0m entity_labels \u001b[38;5;241m=\u001b[39m \u001b[43mmodel\u001b[49m\u001b[38;5;241;43m.\u001b[39;49m\u001b[43mtriples_factory\u001b[49m\u001b[38;5;241m.\u001b[39mget_entity_labels()\n\u001b[1;32m      4\u001b[0m \u001b[38;5;66;03m# Plot the embeddings with entity names\u001b[39;00m\n\u001b[1;32m      5\u001b[0m plt\u001b[38;5;241m.\u001b[39mfigure(figsize\u001b[38;5;241m=\u001b[39m(\u001b[38;5;241m10\u001b[39m, \u001b[38;5;241m10\u001b[39m))\n",
      "File \u001b[0;32m~/miniconda3/envs/pykeen-tutorials/lib/python3.8/site-packages/torch/nn/modules/module.py:1614\u001b[0m, in \u001b[0;36mModule.__getattr__\u001b[0;34m(self, name)\u001b[0m\n\u001b[1;32m   1612\u001b[0m     \u001b[38;5;28;01mif\u001b[39;00m name \u001b[38;5;129;01min\u001b[39;00m modules:\n\u001b[1;32m   1613\u001b[0m         \u001b[38;5;28;01mreturn\u001b[39;00m modules[name]\n\u001b[0;32m-> 1614\u001b[0m \u001b[38;5;28;01mraise\u001b[39;00m \u001b[38;5;167;01mAttributeError\u001b[39;00m(\u001b[38;5;124m\"\u001b[39m\u001b[38;5;124m'\u001b[39m\u001b[38;5;132;01m{}\u001b[39;00m\u001b[38;5;124m'\u001b[39m\u001b[38;5;124m object has no attribute \u001b[39m\u001b[38;5;124m'\u001b[39m\u001b[38;5;132;01m{}\u001b[39;00m\u001b[38;5;124m'\u001b[39m\u001b[38;5;124m\"\u001b[39m\u001b[38;5;241m.\u001b[39mformat(\n\u001b[1;32m   1615\u001b[0m     \u001b[38;5;28mtype\u001b[39m(\u001b[38;5;28mself\u001b[39m)\u001b[38;5;241m.\u001b[39m\u001b[38;5;18m__name__\u001b[39m, name))\n",
      "\u001b[0;31mAttributeError\u001b[0m: 'TransE' object has no attribute 'triples_factory'"
     ]
    }
   ],
   "source": [
    "# Get the entity names\n",
    "entity_labels = model.triples_factory.get_entity_labels()\n",
    "\n",
    "# Plot the embeddings with entity names\n",
    "plt.figure(figsize=(10, 10))\n",
    "plt.scatter(entity_embeddings_pca[:, 0], entity_embeddings_pca[:, 1])\n",
    "for i, entity in enumerate(entity_labels):\n",
    "    plt.annotate(entity, (entity_embeddings_pca[i, 0], entity_embeddings_pca[i, 1]))\n",
    "plt.xlabel('Principal Component 1')\n",
    "plt.ylabel('Principal Component 2')\n",
    "plt.title('Entity Embeddings')\n",
    "plt.show()"
   ]
  },
  {
   "cell_type": "code",
   "execution_count": 36,
   "id": "97ca51f6",
   "metadata": {},
   "outputs": [
    {
     "ename": "AttributeError",
     "evalue": "'function' object has no attribute 'run'",
     "output_type": "error",
     "traceback": [
      "\u001b[0;31m---------------------------------------------------------------------------\u001b[0m",
      "\u001b[0;31mAttributeError\u001b[0m                            Traceback (most recent call last)",
      "Cell \u001b[0;32mIn[36], line 1\u001b[0m\n\u001b[0;32m----> 1\u001b[0m result \u001b[38;5;241m=\u001b[39m \u001b[43mpipeline\u001b[49m\u001b[38;5;241;43m.\u001b[39;49m\u001b[43mrun\u001b[49m()\n\u001b[1;32m      2\u001b[0m \u001b[38;5;66;03m# Get the entity names\u001b[39;00m\n\u001b[1;32m      3\u001b[0m entity_labels \u001b[38;5;241m=\u001b[39m result\u001b[38;5;241m.\u001b[39mtraining\u001b[38;5;241m.\u001b[39mtriples_factory\u001b[38;5;241m.\u001b[39mget_entity_labels()\n",
      "\u001b[0;31mAttributeError\u001b[0m: 'function' object has no attribute 'run'"
     ]
    }
   ],
   "source": [
    "# Get the entity names\n",
    "entity_labels = result.training.triples_factory.get_entity_labels()\n",
    "\n",
    "# Plot the embeddings with entity names\n",
    "plt.figure(figsize=(10, 10))\n",
    "plt.scatter(entity_embeddings_pca[:, 0], entity_embeddings_pca[:, 1])\n",
    "for i, entity in enumerate(entity_labels):\n",
    "    plt.annotate(entity, (entity_embeddings_pca[i, 0], entity_embeddings_pca[i, 1]))\n",
    "plt.xlabel('Principal Component 1')\n",
    "plt.ylabel('Principal Component 2')\n",
    "plt.title('Entity Embeddings')\n",
    "plt.show()"
   ]
  },
  {
   "cell_type": "code",
   "execution_count": 37,
   "id": "7bca43fb",
   "metadata": {},
   "outputs": [
    {
     "data": {
      "text/plain": [
       "PipelineResult(random_seed=1888509045, model=TransE(\n",
       "  (loss): MarginRankingLoss(\n",
       "    (margin_activation): ReLU()\n",
       "  )\n",
       "  (interaction): TransEInteraction()\n",
       "  (entity_representations): ModuleList(\n",
       "    (0): Embedding(\n",
       "      (_embeddings): Embedding(8, 50)\n",
       "    )\n",
       "  )\n",
       "  (relation_representations): ModuleList(\n",
       "    (0): Embedding(\n",
       "      (_embeddings): Embedding(3, 50)\n",
       "    )\n",
       "  )\n",
       "  (weight_regularizers): ModuleList()\n",
       "), training=TriplesFactory(num_entities=8, num_relations=3, create_inverse_triples=False, num_triples=8), training_loop=<pykeen.training.slcwa.SLCWATrainingLoop object at 0x7f834cac8670>, losses=[1.4124407768249512, 1.8501150608062744, 1.4816471338272095, 1.7063754796981812, 1.7398403882980347], metric_results=<pykeen.evaluation.rank_based_evaluator.RankBasedMetricResults object at 0x7f83fb23f970>, train_seconds=0.7798233032226562, evaluate_seconds=0.044973134994506836, stopper=<pykeen.stoppers.stopper.NopStopper object at 0x7f83f91f3a60>, configuration={'dataset': '<user defined>', 'training': '<user defined>', 'testing': '<user defined>', 'validation': '<user defined>', 'model': 'TransE', 'model_kwargs': {'random_seed': 1888509045, 'loss': MarginRankingLoss(\n",
       "  (margin_activation): ReLU()\n",
       ")}, 'loss_kwargs': None, 'regularizer_kwargs': None, 'optimizer': 'Adam', 'optimizer_kwargs': {'lr': 0.001, 'betas': (0.9, 0.999), 'eps': 1e-08, 'weight_decay': 0, 'amsgrad': False, 'maximize': False, 'foreach': None, 'capturable': False, 'differentiable': False, 'fused': None}, 'training_loop': 'SLCWATrainingLoop', 'training_loop_kwargs': {}, 'evaluator': 'RankBasedEvaluator', 'evaluator_kwargs': {}, 'num_epochs': 5, 'batch_size': 256, 'evaluation_kwargs': {'additional_filter_triples': {'training': {'sha512': 'e4abf6b850d3a420d18f14956d206c3b1610e70df904bb48e8852de65bd08f6e5d396a828befc7ccadd11e8d862d5804f555c56d0b7e174bde24b681be85e99e'}, 'validation': {'sha512': '2586a7d9bf166f9793dfa609a43ea97ead709000d6283194d5f343342b555fbec9f9bcdd231db8a58e2e21bb6635e438db173e942c9ddab4f7de3927362462e4'}}}}, metadata={}, version='1.10.1', git_hash='UNHASHED')"
      ]
     },
     "execution_count": 37,
     "metadata": {},
     "output_type": "execute_result"
    }
   ],
   "source": [
    "result"
   ]
  },
  {
   "cell_type": "code",
   "execution_count": null,
   "id": "83600d69",
   "metadata": {},
   "outputs": [],
   "source": []
  }
 ],
 "metadata": {
  "kernelspec": {
   "display_name": "Python 3 (ipykernel)",
   "language": "python",
   "name": "python3"
  },
  "language_info": {
   "codemirror_mode": {
    "name": "ipython",
    "version": 3
   },
   "file_extension": ".py",
   "mimetype": "text/x-python",
   "name": "python",
   "nbconvert_exporter": "python",
   "pygments_lexer": "ipython3",
   "version": "3.8.16"
  }
 },
 "nbformat": 4,
 "nbformat_minor": 5
}
