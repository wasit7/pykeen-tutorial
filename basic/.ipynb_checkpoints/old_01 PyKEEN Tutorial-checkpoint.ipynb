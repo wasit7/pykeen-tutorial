{
 "cells": [
  {
   "cell_type": "markdown",
   "id": "d0f1e14e",
   "metadata": {},
   "source": [
    "# PyKEEN Tutorial\n",
    "\n",
    "This tutorial will guide you through the process of using PyKEEN for knowledge graph embedding. We will cover the following topics:\n",
    "\n",
    "1. Data Preparation\n",
    "2. Creating SPO triples\n",
    "3. Setting up Models\n",
    "4. Evaluations\n",
    "\n",
    "Before we start, make sure you have installed the PyKEEN library. If not, you can install it by running `!pip install pykeen` in a code cell."
   ]
  },
  {
   "cell_type": "markdown",
   "id": "81d4ba20",
   "metadata": {},
   "source": [
    "## 1. Data Preparation\n",
    "\n",
    "In this section, we will load and prepare our data. The data should be in a TSV (Tab-Separated Values) format. We will use pandas to load the data and prepare it for PyKEEN."
   ]
  },
  {
   "cell_type": "code",
   "execution_count": 10,
   "id": "8bd7993f",
   "metadata": {},
   "outputs": [
    {
     "data": {
      "text/html": [
       "<div>\n",
       "<style scoped>\n",
       "    .dataframe tbody tr th:only-of-type {\n",
       "        vertical-align: middle;\n",
       "    }\n",
       "\n",
       "    .dataframe tbody tr th {\n",
       "        vertical-align: top;\n",
       "    }\n",
       "\n",
       "    .dataframe thead th {\n",
       "        text-align: right;\n",
       "    }\n",
       "</style>\n",
       "<table border=\"1\" class=\"dataframe\">\n",
       "  <thead>\n",
       "    <tr style=\"text-align: right;\">\n",
       "      <th></th>\n",
       "      <th>subject</th>\n",
       "      <th>predicate</th>\n",
       "      <th>object</th>\n",
       "    </tr>\n",
       "  </thead>\n",
       "  <tbody>\n",
       "    <tr>\n",
       "      <th>0</th>\n",
       "      <td>Alice</td>\n",
       "      <td>likes</td>\n",
       "      <td>Bob</td>\n",
       "    </tr>\n",
       "    <tr>\n",
       "      <th>1</th>\n",
       "      <td>Alice</td>\n",
       "      <td>knows</td>\n",
       "      <td>Eve</td>\n",
       "    </tr>\n",
       "    <tr>\n",
       "      <th>2</th>\n",
       "      <td>Alice</td>\n",
       "      <td>has</td>\n",
       "      <td>Cat</td>\n",
       "    </tr>\n",
       "    <tr>\n",
       "      <th>3</th>\n",
       "      <td>Bob</td>\n",
       "      <td>likes</td>\n",
       "      <td>Alice</td>\n",
       "    </tr>\n",
       "    <tr>\n",
       "      <th>4</th>\n",
       "      <td>Bob</td>\n",
       "      <td>has</td>\n",
       "      <td>Dog</td>\n",
       "    </tr>\n",
       "    <tr>\n",
       "      <th>5</th>\n",
       "      <td>Charlie</td>\n",
       "      <td>knows</td>\n",
       "      <td>Alice</td>\n",
       "    </tr>\n",
       "    <tr>\n",
       "      <th>6</th>\n",
       "      <td>Charlie</td>\n",
       "      <td>likes</td>\n",
       "      <td>Eve</td>\n",
       "    </tr>\n",
       "    <tr>\n",
       "      <th>7</th>\n",
       "      <td>David</td>\n",
       "      <td>has</td>\n",
       "      <td>Fish</td>\n",
       "    </tr>\n",
       "    <tr>\n",
       "      <th>8</th>\n",
       "      <td>David</td>\n",
       "      <td>knows</td>\n",
       "      <td>Bob</td>\n",
       "    </tr>\n",
       "    <tr>\n",
       "      <th>9</th>\n",
       "      <td>Eve</td>\n",
       "      <td>likes</td>\n",
       "      <td>Fish</td>\n",
       "    </tr>\n",
       "  </tbody>\n",
       "</table>\n",
       "</div>"
      ],
      "text/plain": [
       "   subject predicate object\n",
       "0    Alice     likes    Bob\n",
       "1    Alice     knows    Eve\n",
       "2    Alice       has    Cat\n",
       "3      Bob     likes  Alice\n",
       "4      Bob       has    Dog\n",
       "5  Charlie     knows  Alice\n",
       "6  Charlie     likes    Eve\n",
       "7    David       has   Fish\n",
       "8    David     knows    Bob\n",
       "9      Eve     likes   Fish"
      ]
     },
     "execution_count": 10,
     "metadata": {},
     "output_type": "execute_result"
    }
   ],
   "source": [
    "import pandas as pd\n",
    "\n",
    "# Define the subjects, predicates, and objects\n",
    "subjects = ['Alice', 'Alice', 'Alice', 'Bob', 'Bob', 'Charlie', 'Charlie', 'David', 'David', 'Eve']\n",
    "predicates = ['likes', 'knows', 'has', 'likes', 'has', 'knows', 'likes', 'has', 'knows', 'likes']\n",
    "objects = ['Bob', 'Eve', 'Cat', 'Alice', 'Dog', 'Alice', 'Eve', 'Fish', 'Bob', 'Fish']\n",
    "\n",
    "# Create a dataframe\n",
    "df = pd.DataFrame({'subject': subjects, 'predicate': predicates, 'object': objects})\n",
    "\n",
    "# Save the dataframe to a TSV file\n",
    "df.to_csv('simple_dataset.tsv', sep='\\t', index=False)\n",
    "\n",
    "df"
   ]
  },
  {
   "cell_type": "markdown",
   "id": "9e9e709f",
   "metadata": {},
   "source": [
    "## 2. Creating SPO triples\n",
    "\n",
    "Once we have our data loaded, we need to create SPO (Subject-Predicate-Object) triples. These triples represent the relationships between entities in our knowledge graph. In PyKEEN, we can use the `TriplesFactory` class to create these triples."
   ]
  },
  {
   "cell_type": "code",
   "execution_count": 13,
   "id": "86901224",
   "metadata": {},
   "outputs": [
    {
     "name": "stderr",
     "output_type": "stream",
     "text": [
      "Reconstructing all label-based triples. This is expensive and rarely needed.\n"
     ]
    },
    {
     "data": {
      "text/plain": [
       "array([['Alice', 'has', 'Cat'],\n",
       "       ['Alice', 'knows', 'Eve'],\n",
       "       ['Alice', 'likes', 'Bob'],\n",
       "       ['Bob', 'has', 'Dog'],\n",
       "       ['Bob', 'likes', 'Alice'],\n",
       "       ['Charlie', 'knows', 'Alice'],\n",
       "       ['Charlie', 'likes', 'Eve'],\n",
       "       ['David', 'has', 'Fish'],\n",
       "       ['David', 'knows', 'Bob'],\n",
       "       ['Eve', 'likes', 'Fish']], dtype='<U7')"
      ]
     },
     "execution_count": 13,
     "metadata": {},
     "output_type": "execute_result"
    }
   ],
   "source": [
    "from pykeen.triples import TriplesFactory\n",
    "\n",
    "# Assuming your dataframe has columns 'subject', 'predicate', 'object'\n",
    "triples_factory = TriplesFactory.from_labeled_triples(\n",
    "    triples=df[['subject', 'predicate', 'object']].values,\n",
    ")\n",
    "\n",
    "# Display the first few triples\n",
    "triples_factory.triples"
   ]
  },
  {
   "cell_type": "markdown",
   "id": "f2e34a2a",
   "metadata": {},
   "source": [
    "## 3. Setting up Models\n",
    "\n",
    "Now that we have our triples, we can set up our knowledge graph embedding model. PyKEEN provides several models for this purpose. In this tutorial, we will use the TransE model as an example. We will also split our data into training and testing sets."
   ]
  },
  {
   "cell_type": "code",
   "execution_count": 23,
   "id": "2394177e",
   "metadata": {},
   "outputs": [
    {
     "name": "stderr",
     "output_type": "stream",
     "text": [
      "WARNING:pykeen.utils:using automatically assigned random_state=2867148628\n",
      "INFO:pykeen.triples.splitting:done splitting triples to groups of sizes [2, 1, 1]\n",
      "WARNING:pykeen.pipeline.api:No random seed is specified. Setting to 2520641287.\n",
      "WARNING:pykeen.utils:No cuda devices were available. The model runs on CPU\n",
      "INFO:pykeen.pipeline.api:Using device: None\n",
      "Training epochs on cpu:   0%|                                                                                                                                                     | 0/5 [00:00<?, ?epoch/s]\n",
      "Training batches on cpu:   0%|                                                                                                                                                    | 0/1 [00:00<?, ?batch/s]\u001b[A\n",
      "Training epochs on cpu:   0%|                                                                                                                           | 0/5 [00:00<?, ?epoch/s, loss=2.13, prev_loss=nan]\u001b[A\n",
      "Training batches on cpu:   0%|                                                                                                                                                    | 0/1 [00:00<?, ?batch/s]\u001b[A\n",
      "Training epochs on cpu:  40%|█████████████████████████████████████████████▌                                                                    | 2/5 [00:00<00:00, 10.78epoch/s, loss=1.43, prev_loss=2.13]\u001b[A\n",
      "Training batches on cpu:   0%|                                                                                                                                                    | 0/1 [00:00<?, ?batch/s]\u001b[A\n",
      "Training epochs on cpu:  40%|█████████████████████████████████████████████▌                                                                    | 2/5 [00:00<00:00, 10.78epoch/s, loss=1.77, prev_loss=1.43]\u001b[A\n",
      "Training batches on cpu:   0%|                                                                                                                                                    | 0/1 [00:00<?, ?batch/s]\u001b[A\n",
      "Training epochs on cpu:  80%|███████████████████████████████████████████████████████████████████████████████████████████▏                      | 4/5 [00:00<00:00, 11.04epoch/s, loss=2.13, prev_loss=1.77]\u001b[A\n",
      "Training batches on cpu:   0%|                                                                                                                                                    | 0/1 [00:00<?, ?batch/s]\u001b[A\n",
      "Training epochs on cpu: 100%|█████████████████████████████████████████████████████████████████████████████████████████████████████████████████| 5/5 [00:00<00:00, 11.09epoch/s, loss=0.821, prev_loss=2.13]\u001b[A\n",
      "INFO:pykeen.evaluation.evaluator:Currently automatic memory optimization only supports GPUs, but you're using a CPU. Therefore, the batch_size will be set to the default value.\n",
      "INFO:pykeen.evaluation.evaluator:No evaluation batch_size provided. Setting batch_size to '32'.\n",
      "Evaluating on cpu: 100%|████████████████████████████████████████████████████████████████████████████████████████████████████████████████████████████████████████████| 1.00/1.00 [00:00<00:00, 26.9triple/s]\n",
      "INFO:pykeen.evaluation.evaluator:Evaluation took 0.04s seconds\n"
     ]
    },
    {
     "data": {
      "text/html": [
       "<div>\n",
       "<style scoped>\n",
       "    .dataframe tbody tr th:only-of-type {\n",
       "        vertical-align: middle;\n",
       "    }\n",
       "\n",
       "    .dataframe tbody tr th {\n",
       "        vertical-align: top;\n",
       "    }\n",
       "\n",
       "    .dataframe thead th {\n",
       "        text-align: right;\n",
       "    }\n",
       "</style>\n",
       "<table border=\"1\" class=\"dataframe\">\n",
       "  <thead>\n",
       "    <tr style=\"text-align: right;\">\n",
       "      <th></th>\n",
       "      <th>Side</th>\n",
       "      <th>Type</th>\n",
       "      <th>Metric</th>\n",
       "      <th>Value</th>\n",
       "    </tr>\n",
       "  </thead>\n",
       "  <tbody>\n",
       "    <tr>\n",
       "      <th>0</th>\n",
       "      <td>head</td>\n",
       "      <td>optimistic</td>\n",
       "      <td>inverse_arithmetic_mean_rank</td>\n",
       "      <td>0.333333</td>\n",
       "    </tr>\n",
       "    <tr>\n",
       "      <th>1</th>\n",
       "      <td>tail</td>\n",
       "      <td>optimistic</td>\n",
       "      <td>inverse_arithmetic_mean_rank</td>\n",
       "      <td>0.250000</td>\n",
       "    </tr>\n",
       "    <tr>\n",
       "      <th>2</th>\n",
       "      <td>both</td>\n",
       "      <td>optimistic</td>\n",
       "      <td>inverse_arithmetic_mean_rank</td>\n",
       "      <td>0.285714</td>\n",
       "    </tr>\n",
       "    <tr>\n",
       "      <th>3</th>\n",
       "      <td>head</td>\n",
       "      <td>realistic</td>\n",
       "      <td>inverse_arithmetic_mean_rank</td>\n",
       "      <td>0.333333</td>\n",
       "    </tr>\n",
       "    <tr>\n",
       "      <th>4</th>\n",
       "      <td>tail</td>\n",
       "      <td>realistic</td>\n",
       "      <td>inverse_arithmetic_mean_rank</td>\n",
       "      <td>0.250000</td>\n",
       "    </tr>\n",
       "    <tr>\n",
       "      <th>...</th>\n",
       "      <td>...</td>\n",
       "      <td>...</td>\n",
       "      <td>...</td>\n",
       "      <td>...</td>\n",
       "    </tr>\n",
       "    <tr>\n",
       "      <th>220</th>\n",
       "      <td>tail</td>\n",
       "      <td>realistic</td>\n",
       "      <td>adjusted_hits_at_k</td>\n",
       "      <td>0.000000</td>\n",
       "    </tr>\n",
       "    <tr>\n",
       "      <th>221</th>\n",
       "      <td>both</td>\n",
       "      <td>realistic</td>\n",
       "      <td>adjusted_hits_at_k</td>\n",
       "      <td>0.000000</td>\n",
       "    </tr>\n",
       "    <tr>\n",
       "      <th>222</th>\n",
       "      <td>head</td>\n",
       "      <td>pessimistic</td>\n",
       "      <td>adjusted_hits_at_k</td>\n",
       "      <td>0.000000</td>\n",
       "    </tr>\n",
       "    <tr>\n",
       "      <th>223</th>\n",
       "      <td>tail</td>\n",
       "      <td>pessimistic</td>\n",
       "      <td>adjusted_hits_at_k</td>\n",
       "      <td>0.000000</td>\n",
       "    </tr>\n",
       "    <tr>\n",
       "      <th>224</th>\n",
       "      <td>both</td>\n",
       "      <td>pessimistic</td>\n",
       "      <td>adjusted_hits_at_k</td>\n",
       "      <td>0.000000</td>\n",
       "    </tr>\n",
       "  </tbody>\n",
       "</table>\n",
       "<p>225 rows × 4 columns</p>\n",
       "</div>"
      ],
      "text/plain": [
       "     Side         Type                        Metric     Value\n",
       "0    head   optimistic  inverse_arithmetic_mean_rank  0.333333\n",
       "1    tail   optimistic  inverse_arithmetic_mean_rank  0.250000\n",
       "2    both   optimistic  inverse_arithmetic_mean_rank  0.285714\n",
       "3    head    realistic  inverse_arithmetic_mean_rank  0.333333\n",
       "4    tail    realistic  inverse_arithmetic_mean_rank  0.250000\n",
       "..    ...          ...                           ...       ...\n",
       "220  tail    realistic            adjusted_hits_at_k  0.000000\n",
       "221  both    realistic            adjusted_hits_at_k  0.000000\n",
       "222  head  pessimistic            adjusted_hits_at_k  0.000000\n",
       "223  tail  pessimistic            adjusted_hits_at_k  0.000000\n",
       "224  both  pessimistic            adjusted_hits_at_k  0.000000\n",
       "\n",
       "[225 rows x 4 columns]"
      ]
     },
     "execution_count": 23,
     "metadata": {},
     "output_type": "execute_result"
    }
   ],
   "source": [
    "from pykeen.pipeline import pipeline\n",
    "\n",
    "training, validation, testing = triples_factory.split(ratios=(.8, .1, .1))\n",
    "\n",
    "result = pipeline(\n",
    "    model='TransE',\n",
    "    training=training,\n",
    "    testing=testing,\n",
    "    validation=validation,\n",
    ")\n",
    "\n",
    "# The trained model is stored in the pipeline result\n",
    "model = result.model\n",
    "# The result object also contains the evaluation metrics\n",
    "result.metric_results.to_df()"
   ]
  },
  {
   "cell_type": "markdown",
   "id": "e81d6d20",
   "metadata": {},
   "source": [
    "## 4. Evaluations\n",
    "\n",
    "After training our model, we can evaluate its performance. PyKEEN provides several evaluation metrics, such as Hits@10, Mean Rank, and Mean Reciprocal Rank. These metrics can be calculated using the `Evaluator` class."
   ]
  },
  {
   "cell_type": "code",
   "execution_count": 22,
   "id": "b2ca0453",
   "metadata": {},
   "outputs": [
    {
     "name": "stderr",
     "output_type": "stream",
     "text": [
      "INFO:pykeen.evaluation.evaluator:Currently automatic memory optimization only supports GPUs, but you're using a CPU. Therefore, the batch_size will be set to the default value.\n",
      "INFO:pykeen.evaluation.evaluator:No evaluation batch_size provided. Setting batch_size to '32'.\n",
      "Evaluating on cpu: 100%|████████████████████████████████████████████████████████████████████████████████████████████████████████████████████████████████████████████| 1.00/1.00 [00:00<00:00, 20.8triple/s]\n",
      "INFO:pykeen.evaluation.evaluator:Evaluation took 0.06s seconds\n"
     ]
    },
    {
     "name": "stdout",
     "output_type": "stream",
     "text": [
      "Hits@10: 0.0\n",
      "Hits@10: 0.5\n",
      "Hits@10: 0.5\n",
      "Hits@10: 1.0\n",
      "Mean Reciprocal Rank: 0.3214285671710968\n"
     ]
    }
   ],
   "source": [
    "from pykeen.evaluation import RankBasedEvaluator\n",
    "\n",
    "# Create an evaluator\n",
    "evaluator = RankBasedEvaluator()\n",
    "\n",
    "# Evaluate the model\n",
    "metrics = evaluator.evaluate(result.model, testing.mapped_triples, additional_filter_triples=[training.mapped_triples, validation.mapped_triples])\n",
    "\n",
    "# Print the metrics\n",
    "print(f\"Hits@10: {metrics.get_metric('hits@1')}\")\n",
    "print(f\"Hits@10: {metrics.get_metric('hits@3')}\")\n",
    "print(f\"Hits@10: {metrics.get_metric('hits@5')}\")\n",
    "print(f\"Hits@10: {metrics.get_metric('hits@10')}\")\n",
    "print(f\"Mean Reciprocal Rank: {metrics.get_metric('mean_reciprocal_rank')}\")"
   ]
  },
  {
   "cell_type": "markdown",
   "id": "f744cd7c",
   "metadata": {},
   "source": [
    "## 5. Embedding Visualization\n",
    "\n",
    "Visualizing the embeddings can provide some insights into the relationships between entities in our knowledge graph. We can use Principal Component Analysis (PCA) to reduce the dimensionality of our embeddings and then plot them."
   ]
  },
  {
   "cell_type": "code",
   "execution_count": 26,
   "id": "697f362b",
   "metadata": {},
   "outputs": [
    {
     "data": {
      "image/png": "[encoded data removed]",
      "text/plain": [
       "<Figure size 1000x1000 with 1 Axes>"
      ]
     },
     "metadata": {},
     "output_type": "display_data"
    }
   ],
   "source": [
    "import matplotlib.pyplot as plt\n",
    "from sklearn.decomposition import PCA\n",
    "\n",
    "# Get the entity embeddings\n",
    "# entity_embeddings = model.entity_embeddings(indices=None).detach().numpy()\n",
    "entity_embeddings = model.entity_representations[0](indices=None).detach().numpy()\n",
    "\n",
    "# Perform PCA\n",
    "pca = PCA(n_components=2)\n",
    "entity_embeddings_pca = pca.fit_transform(entity_embeddings)\n",
    "\n",
    "# Plot the embeddings\n",
    "plt.figure(figsize=(10, 10))\n",
    "plt.scatter(entity_embeddings_pca[:, 0], entity_embeddings_pca[:, 1])\n",
    "for i, entity in enumerate(triples_factory.entity_id_to_label):\n",
    "    plt.annotate(entity, (entity_embeddings_pca[i, 0], entity_embeddings_pca[i, 1]))\n",
    "plt.xlabel('Principal Component 1')\n",
    "plt.ylabel('Principal Component 2')\n",
    "plt.title('Entity Embeddings')\n",
    "plt.show()"
   ]
  },
  {
   "cell_type": "code",
   "execution_count": 27,
   "id": "6f5e74ec",
   "metadata": {},
   "outputs": [
    {
     "ename": "AttributeError",
     "evalue": "'TransE' object has no attribute 'triples_factory'",
     "output_type": "error",
     "traceback": [
      "\u001b[0;31m---------------------------------------------------------------------------\u001b[0m",
      "\u001b[0;31mAttributeError\u001b[0m                            Traceback (most recent call last)",
      "Cell \u001b[0;32mIn[27], line 2\u001b[0m\n\u001b[1;32m      1\u001b[0m \u001b[38;5;66;03m# Get the entity names\u001b[39;00m\n\u001b[0;32m----> 2\u001b[0m entity_labels \u001b[38;5;241m=\u001b[39m \u001b[43mmodel\u001b[49m\u001b[38;5;241;43m.\u001b[39;49m\u001b[43mtriples_factory\u001b[49m\u001b[38;5;241m.\u001b[39mget_entity_labels()\n\u001b[1;32m      4\u001b[0m \u001b[38;5;66;03m# Plot the embeddings with entity names\u001b[39;00m\n\u001b[1;32m      5\u001b[0m plt\u001b[38;5;241m.\u001b[39mfigure(figsize\u001b[38;5;241m=\u001b[39m(\u001b[38;5;241m10\u001b[39m, \u001b[38;5;241m10\u001b[39m))\n",
      "File \u001b[0;32m~/miniconda3/envs/pykeen-tutorials/lib/python3.8/site-packages/torch/nn/modules/module.py:1614\u001b[0m, in \u001b[0;36mModule.__getattr__\u001b[0;34m(self, name)\u001b[0m\n\u001b[1;32m   1612\u001b[0m     \u001b[38;5;28;01mif\u001b[39;00m name \u001b[38;5;129;01min\u001b[39;00m modules:\n\u001b[1;32m   1613\u001b[0m         \u001b[38;5;28;01mreturn\u001b[39;00m modules[name]\n\u001b[0;32m-> 1614\u001b[0m \u001b[38;5;28;01mraise\u001b[39;00m \u001b[38;5;167;01mAttributeError\u001b[39;00m(\u001b[38;5;124m\"\u001b[39m\u001b[38;5;124m'\u001b[39m\u001b[38;5;132;01m{}\u001b[39;00m\u001b[38;5;124m'\u001b[39m\u001b[38;5;124m object has no attribute \u001b[39m\u001b[38;5;124m'\u001b[39m\u001b[38;5;132;01m{}\u001b[39;00m\u001b[38;5;124m'\u001b[39m\u001b[38;5;124m\"\u001b[39m\u001b[38;5;241m.\u001b[39mformat(\n\u001b[1;32m   1615\u001b[0m     \u001b[38;5;28mtype\u001b[39m(\u001b[38;5;28mself\u001b[39m)\u001b[38;5;241m.\u001b[39m\u001b[38;5;18m__name__\u001b[39m, name))\n",
      "\u001b[0;31mAttributeError\u001b[0m: 'TransE' object has no attribute 'triples_factory'"
     ]
    }
   ],
   "source": [
    "# Get the entity names\n",
    "entity_labels = model.triples_factory.get_entity_labels()\n",
    "\n",
    "# Plot the embeddings with entity names\n",
    "plt.figure(figsize=(10, 10))\n",
    "plt.scatter(entity_embeddings_pca[:, 0], entity_embeddings_pca[:, 1])\n",
    "for i, entity in enumerate(entity_labels):\n",
    "    plt.annotate(entity, (entity_embeddings_pca[i, 0], entity_embeddings_pca[i, 1]))\n",
    "plt.xlabel('Principal Component 1')\n",
    "plt.ylabel('Principal Component 2')\n",
    "plt.title('Entity Embeddings')\n",
    "plt.show()"
   ]
  },
  {
   "cell_type": "code",
   "execution_count": 28,
   "id": "6cfb7edd",
   "metadata": {},
   "outputs": [
    {
     "ename": "AttributeError",
     "evalue": "'TriplesFactory' object has no attribute 'triples_factory'",
     "output_type": "error",
     "traceback": [
      "\u001b[0;31m---------------------------------------------------------------------------\u001b[0m",
      "\u001b[0;31mAttributeError\u001b[0m                            Traceback (most recent call last)",
      "Cell \u001b[0;32mIn[28], line 2\u001b[0m\n\u001b[1;32m      1\u001b[0m \u001b[38;5;66;03m# Get the entity names\u001b[39;00m\n\u001b[0;32m----> 2\u001b[0m entity_labels \u001b[38;5;241m=\u001b[39m \u001b[43mresult\u001b[49m\u001b[38;5;241;43m.\u001b[39;49m\u001b[43mtraining\u001b[49m\u001b[38;5;241;43m.\u001b[39;49m\u001b[43mtriples_factory\u001b[49m\u001b[38;5;241m.\u001b[39mget_entity_labels()\n\u001b[1;32m      4\u001b[0m \u001b[38;5;66;03m# Plot the embeddings with entity names\u001b[39;00m\n\u001b[1;32m      5\u001b[0m plt\u001b[38;5;241m.\u001b[39mfigure(figsize\u001b[38;5;241m=\u001b[39m(\u001b[38;5;241m10\u001b[39m, \u001b[38;5;241m10\u001b[39m))\n",
      "\u001b[0;31mAttributeError\u001b[0m: 'TriplesFactory' object has no attribute 'triples_factory'"
     ]
    }
   ],
   "source": [
    "# Get the entity names\n",
    "entity_labels = result.training.triples_factory.get_entity_labels()\n",
    "\n",
    "# Plot the embeddings with entity names\n",
    "plt.figure(figsize=(10, 10))\n",
    "plt.scatter(entity_embeddings_pca[:, 0], entity_embeddings_pca[:, 1])\n",
    "for i, entity in enumerate(entity_labels):\n",
    "    plt.annotate(entity, (entity_embeddings_pca[i, 0], entity_embeddings_pca[i, 1]))\n",
    "plt.xlabel('Principal Component 1')\n",
    "plt.ylabel('Principal Component 2')\n",
    "plt.title('Entity Embeddings')\n",
    "plt.show()"
   ]
  },
  {
   "cell_type": "code",
   "execution_count": null,
   "id": "87798cd2",
   "metadata": {},
   "outputs": [],
   "source": []
  }
 ],
 "metadata": {
  "kernelspec": {
   "display_name": "Python 3 (ipykernel)",
   "language": "python",
   "name": "python3"
  },
  "language_info": {
   "codemirror_mode": {
    "name": "ipython",
    "version": 3
   },
   "file_extension": ".py",
   "mimetype": "text/x-python",
   "name": "python",
   "nbconvert_exporter": "python",
   "pygments_lexer": "ipython3",
   "version": "3.8.16"
  }
 },
 "nbformat": 4,
 "nbformat_minor": 5
}
